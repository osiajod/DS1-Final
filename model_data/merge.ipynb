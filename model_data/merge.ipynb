{
 "cells": [
  {
   "cell_type": "code",
   "execution_count": 50,
   "metadata": {},
   "outputs": [],
   "source": [
    "import pandas as pd\n",
    "from uszipcode import SearchEngine\n",
    "\n",
    "\n",
    "# result = search.by_coordinates(39.122229, -77.133578, radius=30, returns=5)\n",
    "crime = pd.read_csv(\"./preposses_crimeda.csv\")\n",
    "search = SearchEngine(simple_zipcode=True)\n",
    "# light = pd.read_csv(\"./\")"
   ]
  },
  {
   "cell_type": "code",
   "execution_count": 51,
   "metadata": {},
   "outputs": [
    {
     "name": "stderr",
     "output_type": "stream",
     "text": [
      "Exception during reset or similar\n",
      "Traceback (most recent call last):\n",
      "  File \"/Users/victor/anaconda3/envs/ds1_env/lib/python3.6/site-packages/sqlalchemy/engine/base.py\", line 739, in _rollback_impl\n",
      "    self.engine.dialect.do_rollback(self.connection)\n",
      "  File \"/Users/victor/anaconda3/envs/ds1_env/lib/python3.6/site-packages/sqlalchemy/engine/default.py\", line 530, in do_rollback\n",
      "    dbapi_connection.rollback()\n",
      "sqlite3.ProgrammingError: Cannot operate on a closed database.\n",
      "\n",
      "The above exception was the direct cause of the following exception:\n",
      "\n",
      "Traceback (most recent call last):\n",
      "  File \"/Users/victor/anaconda3/envs/ds1_env/lib/python3.6/site-packages/sqlalchemy/pool/base.py\", line 680, in _finalize_fairy\n",
      "    fairy._reset(pool)\n",
      "  File \"/Users/victor/anaconda3/envs/ds1_env/lib/python3.6/site-packages/sqlalchemy/pool/base.py\", line 865, in _reset\n",
      "    self._reset_agent.rollback()\n",
      "  File \"/Users/victor/anaconda3/envs/ds1_env/lib/python3.6/site-packages/sqlalchemy/engine/base.py\", line 1713, in rollback\n",
      "    self._do_rollback()\n",
      "  File \"/Users/victor/anaconda3/envs/ds1_env/lib/python3.6/site-packages/sqlalchemy/engine/base.py\", line 1751, in _do_rollback\n",
      "    self.connection._rollback_impl()\n",
      "  File \"/Users/victor/anaconda3/envs/ds1_env/lib/python3.6/site-packages/sqlalchemy/engine/base.py\", line 741, in _rollback_impl\n",
      "    self._handle_dbapi_exception(e, None, None, None, None)\n",
      "  File \"/Users/victor/anaconda3/envs/ds1_env/lib/python3.6/site-packages/sqlalchemy/engine/base.py\", line 1473, in _handle_dbapi_exception\n",
      "    util.raise_from_cause(sqlalchemy_exception, exc_info)\n",
      "  File \"/Users/victor/anaconda3/envs/ds1_env/lib/python3.6/site-packages/sqlalchemy/util/compat.py\", line 398, in raise_from_cause\n",
      "    reraise(type(exception), exception, tb=exc_tb, cause=cause)\n",
      "  File \"/Users/victor/anaconda3/envs/ds1_env/lib/python3.6/site-packages/sqlalchemy/util/compat.py\", line 152, in reraise\n",
      "    raise value.with_traceback(tb)\n",
      "  File \"/Users/victor/anaconda3/envs/ds1_env/lib/python3.6/site-packages/sqlalchemy/engine/base.py\", line 739, in _rollback_impl\n",
      "    self.engine.dialect.do_rollback(self.connection)\n",
      "  File \"/Users/victor/anaconda3/envs/ds1_env/lib/python3.6/site-packages/sqlalchemy/engine/default.py\", line 530, in do_rollback\n",
      "    dbapi_connection.rollback()\n",
      "sqlalchemy.exc.ProgrammingError: (sqlite3.ProgrammingError) Cannot operate on a closed database.\n",
      "(Background on this error at: http://sqlalche.me/e/f405)\n"
     ]
    },
    {
     "ename": "KeyboardInterrupt",
     "evalue": "",
     "output_type": "error",
     "traceback": [
      "\u001b[0;31m---------------------------------------------------------------------------\u001b[0m",
      "\u001b[0;31mKeyboardInterrupt\u001b[0m                         Traceback (most recent call last)",
      "\u001b[0;32m<ipython-input-51-efc4b213b992>\u001b[0m in \u001b[0;36m<module>\u001b[0;34m\u001b[0m\n\u001b[1;32m     11\u001b[0m \u001b[0mcrime_zip_new\u001b[0m \u001b[0;34m=\u001b[0m \u001b[0;34m[\u001b[0m\u001b[0;34m]\u001b[0m\u001b[0;34m\u001b[0m\u001b[0;34m\u001b[0m\u001b[0m\n\u001b[1;32m     12\u001b[0m \u001b[0;32mfor\u001b[0m \u001b[0mlat\u001b[0m\u001b[0;34m,\u001b[0m \u001b[0mlong\u001b[0m \u001b[0;32min\u001b[0m \u001b[0mcrime_zip\u001b[0m\u001b[0;34m:\u001b[0m\u001b[0;34m\u001b[0m\u001b[0;34m\u001b[0m\u001b[0m\n\u001b[0;32m---> 13\u001b[0;31m     \u001b[0mcrime_zip_new\u001b[0m\u001b[0;34m.\u001b[0m\u001b[0mappend\u001b[0m\u001b[0;34m(\u001b[0m\u001b[0mto_zipcode\u001b[0m\u001b[0;34m(\u001b[0m\u001b[0mlat\u001b[0m\u001b[0;34m,\u001b[0m\u001b[0mlong\u001b[0m\u001b[0;34m)\u001b[0m\u001b[0;34m)\u001b[0m\u001b[0;34m\u001b[0m\u001b[0;34m\u001b[0m\u001b[0m\n\u001b[0m\u001b[1;32m     14\u001b[0m \u001b[0;34m\u001b[0m\u001b[0m\n\u001b[1;32m     15\u001b[0m \u001b[0mcrime_zip\u001b[0m \u001b[0;34m=\u001b[0m \u001b[0mpd\u001b[0m\u001b[0;34m.\u001b[0m\u001b[0mDataFrame\u001b[0m\u001b[0;34m(\u001b[0m\u001b[0mcrime_zip_new\u001b[0m\u001b[0;34m,\u001b[0m \u001b[0mcolumns\u001b[0m\u001b[0;34m=\u001b[0m\u001b[0;34m[\u001b[0m\u001b[0;34m\"zipcode\"\u001b[0m\u001b[0;34m]\u001b[0m\u001b[0;34m)\u001b[0m\u001b[0;34m\u001b[0m\u001b[0;34m\u001b[0m\u001b[0m\n",
      "\u001b[0;32m<ipython-input-51-efc4b213b992>\u001b[0m in \u001b[0;36mto_zipcode\u001b[0;34m(lat, long)\u001b[0m\n\u001b[1;32m      5\u001b[0m \u001b[0;34m\u001b[0m\u001b[0m\n\u001b[1;32m      6\u001b[0m \u001b[0;32mdef\u001b[0m \u001b[0mto_zipcode\u001b[0m\u001b[0;34m(\u001b[0m\u001b[0mlat\u001b[0m\u001b[0;34m,\u001b[0m \u001b[0mlong\u001b[0m\u001b[0;34m)\u001b[0m\u001b[0;34m:\u001b[0m\u001b[0;34m\u001b[0m\u001b[0;34m\u001b[0m\u001b[0m\n\u001b[0;32m----> 7\u001b[0;31m     \u001b[0;32mreturn\u001b[0m \u001b[0msearch\u001b[0m\u001b[0;34m.\u001b[0m\u001b[0mby_coordinates\u001b[0m\u001b[0;34m(\u001b[0m\u001b[0mlat\u001b[0m\u001b[0;34m,\u001b[0m\u001b[0mlong\u001b[0m\u001b[0;34m,\u001b[0m\u001b[0mradius\u001b[0m\u001b[0;34m=\u001b[0m\u001b[0;36m30\u001b[0m\u001b[0;34m)\u001b[0m\u001b[0;34m[\u001b[0m\u001b[0;36m0\u001b[0m\u001b[0;34m]\u001b[0m\u001b[0;34m.\u001b[0m\u001b[0mvalues\u001b[0m\u001b[0;34m(\u001b[0m\u001b[0;34m)\u001b[0m\u001b[0;34m[\u001b[0m\u001b[0;36m0\u001b[0m\u001b[0;34m]\u001b[0m\u001b[0;34m\u001b[0m\u001b[0;34m\u001b[0m\u001b[0m\n\u001b[0m\u001b[1;32m      8\u001b[0m \u001b[0;34m\u001b[0m\u001b[0m\n\u001b[1;32m      9\u001b[0m \u001b[0;31m# crime_zip = pd.DataFrame(crime[[\"Lat\",\"Long\"]].apply(to_zipcode, axis=1), columns=[\"zipcode\"])\u001b[0m\u001b[0;34m\u001b[0m\u001b[0;34m\u001b[0m\u001b[0;34m\u001b[0m\u001b[0m\n",
      "\u001b[0;32m~/anaconda3/envs/ds1_env/lib/python3.6/site-packages/uszipcode/search.py\u001b[0m in \u001b[0;36mby_coordinates\u001b[0;34m(self, lat, lng, radius, zipcode_type, sort_by, ascending, returns)\u001b[0m\n\u001b[1;32m    695\u001b[0m             \u001b[0mlat\u001b[0m\u001b[0;34m=\u001b[0m\u001b[0mlat\u001b[0m\u001b[0;34m,\u001b[0m \u001b[0mlng\u001b[0m\u001b[0;34m=\u001b[0m\u001b[0mlng\u001b[0m\u001b[0;34m,\u001b[0m \u001b[0mradius\u001b[0m\u001b[0;34m=\u001b[0m\u001b[0mradius\u001b[0m\u001b[0;34m,\u001b[0m\u001b[0;34m\u001b[0m\u001b[0;34m\u001b[0m\u001b[0m\n\u001b[1;32m    696\u001b[0m             \u001b[0msort_by\u001b[0m\u001b[0;34m=\u001b[0m\u001b[0msort_by\u001b[0m\u001b[0;34m,\u001b[0m \u001b[0mzipcode_type\u001b[0m\u001b[0;34m=\u001b[0m\u001b[0mzipcode_type\u001b[0m\u001b[0;34m,\u001b[0m\u001b[0;34m\u001b[0m\u001b[0;34m\u001b[0m\u001b[0m\n\u001b[0;32m--> 697\u001b[0;31m             \u001b[0mascending\u001b[0m\u001b[0;34m=\u001b[0m\u001b[0mascending\u001b[0m\u001b[0;34m,\u001b[0m \u001b[0mreturns\u001b[0m\u001b[0;34m=\u001b[0m\u001b[0mreturns\u001b[0m\u001b[0;34m,\u001b[0m\u001b[0;34m\u001b[0m\u001b[0;34m\u001b[0m\u001b[0m\n\u001b[0m\u001b[1;32m    698\u001b[0m         )\n\u001b[1;32m    699\u001b[0m \u001b[0;34m\u001b[0m\u001b[0m\n",
      "\u001b[0;32m~/anaconda3/envs/ds1_env/lib/python3.6/site-packages/uszipcode/search.py\u001b[0m in \u001b[0;36mquery\u001b[0;34m(self, zipcode, prefix, pattern, city, state, lat, lng, radius, population_lower, population_upper, population_density_lower, population_density_upper, land_area_in_sqmi_lower, land_area_in_sqmi_upper, water_area_in_sqmi_lower, water_area_in_sqmi_upper, housing_units_lower, housing_units_upper, occupied_housing_units_lower, occupied_housing_units_upper, median_home_value_lower, median_home_value_upper, median_household_income_lower, median_household_income_upper, zipcode_type, sort_by, ascending, returns)\u001b[0m\n\u001b[1;32m    524\u001b[0m             \u001b[0mpairs\u001b[0m \u001b[0;34m=\u001b[0m \u001b[0mlist\u001b[0m\u001b[0;34m(\u001b[0m\u001b[0;34m)\u001b[0m\u001b[0;34m\u001b[0m\u001b[0;34m\u001b[0m\u001b[0m\n\u001b[1;32m    525\u001b[0m             \u001b[0;32mfor\u001b[0m \u001b[0mz\u001b[0m \u001b[0;32min\u001b[0m \u001b[0mq\u001b[0m\u001b[0;34m:\u001b[0m\u001b[0;34m\u001b[0m\u001b[0;34m\u001b[0m\u001b[0m\n\u001b[0;32m--> 526\u001b[0;31m                 \u001b[0mdist\u001b[0m \u001b[0;34m=\u001b[0m \u001b[0mz\u001b[0m\u001b[0;34m.\u001b[0m\u001b[0mdist_from\u001b[0m\u001b[0;34m(\u001b[0m\u001b[0mlat\u001b[0m\u001b[0;34m,\u001b[0m \u001b[0mlng\u001b[0m\u001b[0;34m)\u001b[0m\u001b[0;34m\u001b[0m\u001b[0;34m\u001b[0m\u001b[0m\n\u001b[0m\u001b[1;32m    527\u001b[0m                 \u001b[0;32mif\u001b[0m \u001b[0mdist\u001b[0m \u001b[0;34m<=\u001b[0m \u001b[0mradius\u001b[0m\u001b[0;34m:\u001b[0m\u001b[0;34m\u001b[0m\u001b[0;34m\u001b[0m\u001b[0m\n\u001b[1;32m    528\u001b[0m                     \u001b[0mpairs\u001b[0m\u001b[0;34m.\u001b[0m\u001b[0mappend\u001b[0m\u001b[0;34m(\u001b[0m\u001b[0;34m(\u001b[0m\u001b[0mdist\u001b[0m\u001b[0;34m,\u001b[0m \u001b[0mz\u001b[0m\u001b[0;34m)\u001b[0m\u001b[0;34m)\u001b[0m\u001b[0;34m\u001b[0m\u001b[0;34m\u001b[0m\u001b[0m\n",
      "\u001b[0;32m~/anaconda3/envs/ds1_env/lib/python3.6/site-packages/uszipcode/model.py\u001b[0m in \u001b[0;36mdist_from\u001b[0;34m(self, lat, lng, miles)\u001b[0m\n\u001b[1;32m    150\u001b[0m         \u001b[0;34m:\u001b[0m\u001b[0mparam\u001b[0m \u001b[0mmiles\u001b[0m\u001b[0;34m:\u001b[0m \u001b[0;32mif\u001b[0m \u001b[0;32mFalse\u001b[0m\u001b[0;34m,\u001b[0m \u001b[0mthe\u001b[0m \u001b[0mvalue\u001b[0m \u001b[0;32mis\u001b[0m \u001b[0;32min\u001b[0m\u001b[0;31m \u001b[0m\u001b[0;31m`\u001b[0m\u001b[0mkilometers\u001b[0m\u001b[0;31m`\u001b[0m\u001b[0;34m.\u001b[0m\u001b[0;34m\u001b[0m\u001b[0;34m\u001b[0m\u001b[0m\n\u001b[1;32m    151\u001b[0m         \"\"\"\n\u001b[0;32m--> 152\u001b[0;31m         \u001b[0;32mreturn\u001b[0m \u001b[0mgreat_circle\u001b[0m\u001b[0;34m(\u001b[0m\u001b[0;34m(\u001b[0m\u001b[0mself\u001b[0m\u001b[0;34m.\u001b[0m\u001b[0mlat\u001b[0m\u001b[0;34m,\u001b[0m \u001b[0mself\u001b[0m\u001b[0;34m.\u001b[0m\u001b[0mlng\u001b[0m\u001b[0;34m)\u001b[0m\u001b[0;34m,\u001b[0m \u001b[0;34m(\u001b[0m\u001b[0mlat\u001b[0m\u001b[0;34m,\u001b[0m \u001b[0mlng\u001b[0m\u001b[0;34m)\u001b[0m\u001b[0;34m,\u001b[0m \u001b[0mmiles\u001b[0m\u001b[0;34m=\u001b[0m\u001b[0mmiles\u001b[0m\u001b[0;34m)\u001b[0m\u001b[0;34m\u001b[0m\u001b[0;34m\u001b[0m\u001b[0m\n\u001b[0m\u001b[1;32m    153\u001b[0m \u001b[0;34m\u001b[0m\u001b[0m\n\u001b[1;32m    154\u001b[0m     \u001b[0;32mdef\u001b[0m \u001b[0mto_json\u001b[0m\u001b[0;34m(\u001b[0m\u001b[0mself\u001b[0m\u001b[0;34m,\u001b[0m \u001b[0minclude_null\u001b[0m\u001b[0;34m=\u001b[0m\u001b[0;32mTrue\u001b[0m\u001b[0;34m)\u001b[0m\u001b[0;34m:\u001b[0m  \u001b[0;31m# pragma: no cover\u001b[0m\u001b[0;34m\u001b[0m\u001b[0;34m\u001b[0m\u001b[0m\n",
      "\u001b[0;32m~/anaconda3/envs/ds1_env/lib/python3.6/site-packages/uszipcode/pkg/haversine/__init__.py\u001b[0m in \u001b[0;36mgreat_circle\u001b[0;34m(point1, point2, miles)\u001b[0m\n\u001b[1;32m     18\u001b[0m \u001b[0;34m\u001b[0m\u001b[0m\n\u001b[1;32m     19\u001b[0m     \u001b[0;31m# convert all latitudes/longitudes from decimal degrees to radians\u001b[0m\u001b[0;34m\u001b[0m\u001b[0;34m\u001b[0m\u001b[0;34m\u001b[0m\u001b[0m\n\u001b[0;32m---> 20\u001b[0;31m     \u001b[0mlat1\u001b[0m\u001b[0;34m,\u001b[0m \u001b[0mlng1\u001b[0m\u001b[0;34m,\u001b[0m \u001b[0mlat2\u001b[0m\u001b[0;34m,\u001b[0m \u001b[0mlng2\u001b[0m \u001b[0;34m=\u001b[0m \u001b[0mlist\u001b[0m\u001b[0;34m(\u001b[0m\u001b[0mmap\u001b[0m\u001b[0;34m(\u001b[0m\u001b[0mradians\u001b[0m\u001b[0;34m,\u001b[0m \u001b[0;34m[\u001b[0m\u001b[0mlat1\u001b[0m\u001b[0;34m,\u001b[0m \u001b[0mlng1\u001b[0m\u001b[0;34m,\u001b[0m \u001b[0mlat2\u001b[0m\u001b[0;34m,\u001b[0m \u001b[0mlng2\u001b[0m\u001b[0;34m]\u001b[0m\u001b[0;34m)\u001b[0m\u001b[0;34m)\u001b[0m\u001b[0;34m\u001b[0m\u001b[0;34m\u001b[0m\u001b[0m\n\u001b[0m\u001b[1;32m     21\u001b[0m \u001b[0;34m\u001b[0m\u001b[0m\n\u001b[1;32m     22\u001b[0m     \u001b[0;31m# calculate haversine\u001b[0m\u001b[0;34m\u001b[0m\u001b[0;34m\u001b[0m\u001b[0;34m\u001b[0m\u001b[0m\n",
      "\u001b[0;31mKeyboardInterrupt\u001b[0m: "
     ]
    }
   ],
   "source": [
    "def to_zipcode(lat_long_series):\n",
    "    lat = lat_long_series[0]\n",
    "    long = lat_long_series[1]\n",
    "    return search.by_coordinates(lat,long,radius=30)[0].values()[0]\n",
    "\n",
    "def to_zipcode(lat, long):\n",
    "    return search.by_coordinates(lat,long,radius=30)[0].values()[0]\n",
    "\n",
    "# crime_zip = pd.DataFrame(crime[[\"Lat\",\"Long\"]].apply(to_zipcode, axis=1), columns=[\"zipcode\"])\n",
    "crime_zip = pd.DataFrame(crime[[\"Lat\", \"Long\"]]).values\n",
    "crime_zip_new = []\n",
    "for lat, long in crime_zip:\n",
    "    crime_zip_new.append(to_zipcode(lat,long))\n",
    "\n",
    "crime_zip = pd.DataFrame(crime_zip_new, columns=[\"zipcode\"])"
   ]
  },
  {
   "cell_type": "code",
   "execution_count": null,
   "metadata": {},
   "outputs": [],
   "source": [
    "crime_zip.head()"
   ]
  },
  {
   "cell_type": "code",
   "execution_count": null,
   "metadata": {},
   "outputs": [],
   "source": [
    "crime_with_zip = pd.concat([crime, crime_zip], axis=1)\n",
    "crime_with_zip.to_csv(\"crime_with_zip.csv\", index=False)"
   ]
  },
  {
   "cell_type": "code",
   "execution_count": null,
   "metadata": {},
   "outputs": [],
   "source": [
    "#now do the same with Boston population\n",
    "boston = pd.read_csv('./Boston_population_density.csv')\n",
    "boston['Zipcode']='0'+boston['Zipcode'].astype(str)\n",
    "boston.rename(columns = {'Zipcode':'zipcode'}, inplace = True)\n",
    "\n",
    "\n",
    "bldg = pd.read_csv('./bldg_zip.csv')\n",
    "bldg['Zipcode']='0'+bldg['ZIPCODE'].astype(str)\n",
    "bldg.rename(columns = {'ZIPCODE' : 'zipcode'}, inplace = True)\n",
    "\n",
    "land = pd.read_csv('./land_zip.csv')\n",
    "land['Zipcode']='0'+land['ZIPCODE'].astype(str)\n",
    "land.rename(columns = {'ZIPCODE' : 'zipcode'}, inplace = True)\n",
    "\n",
    "light = pd.read_csv('./streetlight_locations.csv')\n",
    "\n",
    "light_zip = pd.DataFrame(light[[\"Lat\", \"Long\"]]).values\n",
    "light_zip_new = []\n",
    "for lat, long in light_zip:\n",
    "    light_zip_new.append(to_zipcode(lat,long))\n",
    "\n",
    "light_zip = pd.DataFrame(crime_zip_new, columns=[\"zipcode\"])\n",
    "\n",
    "# light_zip = pd.DataFrame(light[[\"Lat\",\"Long\"]].apply(to_zipcode, axis=1), columns=[\"zipcode\"])\n",
    "light_with_zip = pd.concat([light, light_zip], axis=1)\n",
    "light_with_zip.to_csv(\"light_with_zip.csv\", index=False)\n"
   ]
  },
  {
   "cell_type": "code",
   "execution_count": null,
   "metadata": {},
   "outputs": [],
   "source": [
    "crime_with_zip_joined = crime_with_zip.join(boston.set_index('zipcode'), on='zipcode')\n",
    "crime_with_zip_joined = crime_with_zip_joined.join(bldg.set_index('zipcode'), on='zipcode')\n",
    "crime_with_zip_joined = crime_with_zip_joined.join(land.set_index('zipcode'), on='zipcode')\n",
    "\n"
   ]
  },
  {
   "cell_type": "code",
   "execution_count": null,
   "metadata": {},
   "outputs": [],
   "source": [
    "crime_with_zip_joined.to_csv(\"crime_joined.csv\", index=False)"
   ]
  },
  {
   "cell_type": "code",
   "execution_count": null,
   "metadata": {},
   "outputs": [],
   "source": []
  }
 ],
 "metadata": {
  "kernelspec": {
   "display_name": "ds1_env",
   "language": "python",
   "name": "ds1_env"
  },
  "language_info": {
   "codemirror_mode": {
    "name": "ipython",
    "version": 3
   },
   "file_extension": ".py",
   "mimetype": "text/x-python",
   "name": "python",
   "nbconvert_exporter": "python",
   "pygments_lexer": "ipython3",
   "version": "3.6.9"
  }
 },
 "nbformat": 4,
 "nbformat_minor": 2
}
