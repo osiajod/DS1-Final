{
 "cells": [
  {
   "cell_type": "code",
   "execution_count": 30,
   "metadata": {},
   "outputs": [],
   "source": [
    "import pandas as pd\n",
    "from uszipcode import SearchEngine\n",
    "\n",
    "\n",
    "# result = search.by_coordinates(39.122229, -77.133578, radius=30, returns=5)\n",
    "crime = pd.read_csv(\"./preposses_crimeda.csv\")\n",
    "search = SearchEngine(simple_zipcode=True)\n",
    "# light = pd.read_csv(\"./\")"
   ]
  },
  {
   "cell_type": "code",
   "execution_count": null,
   "metadata": {},
   "outputs": [],
   "source": [
    "def to_zipcode(lat_long_series):\n",
    "    lat = lat_long_series[0]\n",
    "    long = lat_long_series[1]\n",
    "    return search.by_coordinates(lat,long,radius=30)[0].values()[0]\n",
    "\n",
    "crime_zip = pd.DataFrame(crime[[\"Lat\",\"Long\"]].apply(to_zipcode, axis=1), columns=[\"zipcode\"])\n"
   ]
  },
  {
   "cell_type": "code",
   "execution_count": null,
   "metadata": {},
   "outputs": [],
   "source": [
    "crime_zip.head()"
   ]
  },
  {
   "cell_type": "code",
   "execution_count": null,
   "metadata": {},
   "outputs": [],
   "source": [
    "crime_with_zip = pd.concat([crime, crime_zip], axis=1)\n",
    "crime_with_zip.to_csv(\"crime_with_zip.csv\", index=False)"
   ]
  },
  {
   "cell_type": "code",
   "execution_count": null,
   "metadata": {},
   "outputs": [],
   "source": [
    "#now do the same with Boston population\n",
    "boston = pd.read_csv('./Boston_population_density.csv')\n",
    "boston.rename(columns = {'Zipcode':'zipcode'}, inplace = True) \n",
    "\n",
    "bldg = pd.read_csv('./bldg_zip.csv')\n",
    "bldg.rename(columns = {'ZIPCODE' : 'zipcode'}, inplace = True)\n",
    "\n",
    "land = pd.read_csv('./land_zip.csv')\n",
    "land.rename(columns = {'ZIPCODE' : 'zipcode'}, inplace = True)\n"
   ]
  },
  {
   "cell_type": "code",
   "execution_count": null,
   "metadata": {},
   "outputs": [],
   "source": [
    "crime_with_zip_joined = crime_with_zip.join([boston.set_index('zipcode'), bldg.set_index('zipcode'), land.set_index('zipcode')], on='zipcode')\n"
   ]
  },
  {
   "cell_type": "code",
   "execution_count": null,
   "metadata": {},
   "outputs": [],
   "source": []
  }
 ],
 "metadata": {
  "kernelspec": {
   "display_name": "ds1_env",
   "language": "python",
   "name": "ds1_env"
  },
  "language_info": {
   "codemirror_mode": {
    "name": "ipython",
    "version": 3
   },
   "file_extension": ".py",
   "mimetype": "text/x-python",
   "name": "python",
   "nbconvert_exporter": "python",
   "pygments_lexer": "ipython3",
   "version": "3.6.9"
  }
 },
 "nbformat": 4,
 "nbformat_minor": 2
}
