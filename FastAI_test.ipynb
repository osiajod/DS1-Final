{
 "cells": [
  {
   "cell_type": "code",
   "execution_count": 14,
   "metadata": {},
   "outputs": [],
   "source": [
    "from fastai.tabular import * \n",
    "import pandas as pd\n",
    "import sklearn\n",
    "from matplotlib import pyplot as plt\n"
   ]
  },
  {
   "cell_type": "code",
   "execution_count": 15,
   "metadata": {},
   "outputs": [
    {
     "data": {
      "text/html": [
       "<div>\n",
       "<style scoped>\n",
       "    .dataframe tbody tr th:only-of-type {\n",
       "        vertical-align: middle;\n",
       "    }\n",
       "\n",
       "    .dataframe tbody tr th {\n",
       "        vertical-align: top;\n",
       "    }\n",
       "\n",
       "    .dataframe thead th {\n",
       "        text-align: right;\n",
       "    }\n",
       "</style>\n",
       "<table border=\"1\" class=\"dataframe\">\n",
       "  <thead>\n",
       "    <tr style=\"text-align: right;\">\n",
       "      <th></th>\n",
       "      <th>OFFENSE_CODE_GROUP</th>\n",
       "      <th>SHOOTING</th>\n",
       "      <th>MONTH</th>\n",
       "      <th>DAY_OF_WEEK</th>\n",
       "      <th>HOUR</th>\n",
       "      <th>Population density (per square mile of land area)</th>\n",
       "      <th>BLDG_VAL</th>\n",
       "      <th>LAND_VAL</th>\n",
       "      <th>light_density</th>\n",
       "      <th>Lat</th>\n",
       "      <th>Long</th>\n",
       "      <th>latbin</th>\n",
       "      <th>longbin</th>\n",
       "      <th>light_count</th>\n",
       "      <th>graffiti_count</th>\n",
       "    </tr>\n",
       "  </thead>\n",
       "  <tbody>\n",
       "    <tr>\n",
       "      <th>0</th>\n",
       "      <td>2</td>\n",
       "      <td>0</td>\n",
       "      <td>7</td>\n",
       "      <td>0</td>\n",
       "      <td>23</td>\n",
       "      <td>19926.9</td>\n",
       "      <td>560.432683</td>\n",
       "      <td>189.333050</td>\n",
       "      <td>1.000000</td>\n",
       "      <td>42.343765</td>\n",
       "      <td>-71.088669</td>\n",
       "      <td>32.0</td>\n",
       "      <td>27.0</td>\n",
       "      <td>165.0</td>\n",
       "      <td>45.0</td>\n",
       "    </tr>\n",
       "    <tr>\n",
       "      <th>1</th>\n",
       "      <td>2</td>\n",
       "      <td>0</td>\n",
       "      <td>8</td>\n",
       "      <td>5</td>\n",
       "      <td>12</td>\n",
       "      <td>15871.3</td>\n",
       "      <td>4156.595899</td>\n",
       "      <td>36.813618</td>\n",
       "      <td>0.684760</td>\n",
       "      <td>42.320755</td>\n",
       "      <td>-71.090354</td>\n",
       "      <td>26.0</td>\n",
       "      <td>26.0</td>\n",
       "      <td>103.0</td>\n",
       "      <td>40.0</td>\n",
       "    </tr>\n",
       "    <tr>\n",
       "      <th>2</th>\n",
       "      <td>2</td>\n",
       "      <td>0</td>\n",
       "      <td>7</td>\n",
       "      <td>3</td>\n",
       "      <td>5</td>\n",
       "      <td>24456.0</td>\n",
       "      <td>3738.859654</td>\n",
       "      <td>105.378164</td>\n",
       "      <td>0.783085</td>\n",
       "      <td>42.324012</td>\n",
       "      <td>-71.108921</td>\n",
       "      <td>27.0</td>\n",
       "      <td>21.0</td>\n",
       "      <td>146.0</td>\n",
       "      <td>44.0</td>\n",
       "    </tr>\n",
       "    <tr>\n",
       "      <th>3</th>\n",
       "      <td>2</td>\n",
       "      <td>0</td>\n",
       "      <td>8</td>\n",
       "      <td>1</td>\n",
       "      <td>16</td>\n",
       "      <td>11553.7</td>\n",
       "      <td>121.169778</td>\n",
       "      <td>34.318379</td>\n",
       "      <td>0.548610</td>\n",
       "      <td>42.290953</td>\n",
       "      <td>-71.046736</td>\n",
       "      <td>17.0</td>\n",
       "      <td>39.0</td>\n",
       "      <td>0.0</td>\n",
       "      <td>3.0</td>\n",
       "    </tr>\n",
       "    <tr>\n",
       "      <th>4</th>\n",
       "      <td>2</td>\n",
       "      <td>0</td>\n",
       "      <td>8</td>\n",
       "      <td>0</td>\n",
       "      <td>18</td>\n",
       "      <td>19926.9</td>\n",
       "      <td>560.432683</td>\n",
       "      <td>189.333050</td>\n",
       "      <td>1.000000</td>\n",
       "      <td>42.338655</td>\n",
       "      <td>-71.081457</td>\n",
       "      <td>31.0</td>\n",
       "      <td>29.0</td>\n",
       "      <td>151.0</td>\n",
       "      <td>84.0</td>\n",
       "    </tr>\n",
       "  </tbody>\n",
       "</table>\n",
       "</div>"
      ],
      "text/plain": [
       "   OFFENSE_CODE_GROUP  SHOOTING  MONTH  DAY_OF_WEEK  HOUR  \\\n",
       "0                   2         0      7            0    23   \n",
       "1                   2         0      8            5    12   \n",
       "2                   2         0      7            3     5   \n",
       "3                   2         0      8            1    16   \n",
       "4                   2         0      8            0    18   \n",
       "\n",
       "   Population density (per square mile of land area)     BLDG_VAL    LAND_VAL  \\\n",
       "0                                            19926.9   560.432683  189.333050   \n",
       "1                                            15871.3  4156.595899   36.813618   \n",
       "2                                            24456.0  3738.859654  105.378164   \n",
       "3                                            11553.7   121.169778   34.318379   \n",
       "4                                            19926.9   560.432683  189.333050   \n",
       "\n",
       "   light_density        Lat       Long  latbin  longbin  light_count  \\\n",
       "0       1.000000  42.343765 -71.088669    32.0     27.0        165.0   \n",
       "1       0.684760  42.320755 -71.090354    26.0     26.0        103.0   \n",
       "2       0.783085  42.324012 -71.108921    27.0     21.0        146.0   \n",
       "3       0.548610  42.290953 -71.046736    17.0     39.0          0.0   \n",
       "4       1.000000  42.338655 -71.081457    31.0     29.0        151.0   \n",
       "\n",
       "   graffiti_count  \n",
       "0            45.0  \n",
       "1            40.0  \n",
       "2            44.0  \n",
       "3             3.0  \n",
       "4            84.0  "
      ]
     },
     "execution_count": 15,
     "metadata": {},
     "output_type": "execute_result"
    }
   ],
   "source": [
    "crime_property_light_population = pd.read_csv(\"balanced_data.csv\").iloc[:,1:]\n",
    "crime_property_light_population.head()"
   ]
  },
  {
   "cell_type": "code",
   "execution_count": 16,
   "metadata": {},
   "outputs": [
    {
     "data": {
      "text/plain": [
       "array([2, 1, 0, 3, 4])"
      ]
     },
     "execution_count": 16,
     "metadata": {},
     "output_type": "execute_result"
    }
   ],
   "source": [
    "crime_property_light_population.OFFENSE_CODE_GROUP.unique()\n"
   ]
  },
  {
   "cell_type": "code",
   "execution_count": 17,
   "metadata": {},
   "outputs": [
    {
     "data": {
      "text/html": [
       "<div>\n",
       "<style scoped>\n",
       "    .dataframe tbody tr th:only-of-type {\n",
       "        vertical-align: middle;\n",
       "    }\n",
       "\n",
       "    .dataframe tbody tr th {\n",
       "        vertical-align: top;\n",
       "    }\n",
       "\n",
       "    .dataframe thead th {\n",
       "        text-align: right;\n",
       "    }\n",
       "</style>\n",
       "<table border=\"1\" class=\"dataframe\">\n",
       "  <thead>\n",
       "    <tr style=\"text-align: right;\">\n",
       "      <th></th>\n",
       "      <th>OFFENSE_CODE_GROUP</th>\n",
       "      <th>SHOOTING</th>\n",
       "      <th>MONTH</th>\n",
       "      <th>HOUR</th>\n",
       "      <th>DAY_OF_WEEK</th>\n",
       "      <th>Population density (per square mile of land area)</th>\n",
       "      <th>BLDG_VAL</th>\n",
       "      <th>LAND_VAL</th>\n",
       "      <th>light_density</th>\n",
       "    </tr>\n",
       "  </thead>\n",
       "  <tbody>\n",
       "    <tr>\n",
       "      <th>0</th>\n",
       "      <td>2</td>\n",
       "      <td>0</td>\n",
       "      <td>7</td>\n",
       "      <td>23</td>\n",
       "      <td>0</td>\n",
       "      <td>19926.9</td>\n",
       "      <td>560.432683</td>\n",
       "      <td>189.333050</td>\n",
       "      <td>1.000000</td>\n",
       "    </tr>\n",
       "    <tr>\n",
       "      <th>1</th>\n",
       "      <td>2</td>\n",
       "      <td>0</td>\n",
       "      <td>8</td>\n",
       "      <td>12</td>\n",
       "      <td>5</td>\n",
       "      <td>15871.3</td>\n",
       "      <td>4156.595899</td>\n",
       "      <td>36.813618</td>\n",
       "      <td>0.684760</td>\n",
       "    </tr>\n",
       "    <tr>\n",
       "      <th>2</th>\n",
       "      <td>2</td>\n",
       "      <td>0</td>\n",
       "      <td>7</td>\n",
       "      <td>5</td>\n",
       "      <td>3</td>\n",
       "      <td>24456.0</td>\n",
       "      <td>3738.859654</td>\n",
       "      <td>105.378164</td>\n",
       "      <td>0.783085</td>\n",
       "    </tr>\n",
       "    <tr>\n",
       "      <th>3</th>\n",
       "      <td>2</td>\n",
       "      <td>0</td>\n",
       "      <td>8</td>\n",
       "      <td>16</td>\n",
       "      <td>1</td>\n",
       "      <td>11553.7</td>\n",
       "      <td>121.169778</td>\n",
       "      <td>34.318379</td>\n",
       "      <td>0.548610</td>\n",
       "    </tr>\n",
       "    <tr>\n",
       "      <th>4</th>\n",
       "      <td>2</td>\n",
       "      <td>0</td>\n",
       "      <td>8</td>\n",
       "      <td>18</td>\n",
       "      <td>0</td>\n",
       "      <td>19926.9</td>\n",
       "      <td>560.432683</td>\n",
       "      <td>189.333050</td>\n",
       "      <td>1.000000</td>\n",
       "    </tr>\n",
       "  </tbody>\n",
       "</table>\n",
       "</div>"
      ],
      "text/plain": [
       "   OFFENSE_CODE_GROUP  SHOOTING  MONTH  HOUR  DAY_OF_WEEK  \\\n",
       "0                   2         0      7    23            0   \n",
       "1                   2         0      8    12            5   \n",
       "2                   2         0      7     5            3   \n",
       "3                   2         0      8    16            1   \n",
       "4                   2         0      8    18            0   \n",
       "\n",
       "   Population density (per square mile of land area)     BLDG_VAL    LAND_VAL  \\\n",
       "0                                            19926.9   560.432683  189.333050   \n",
       "1                                            15871.3  4156.595899   36.813618   \n",
       "2                                            24456.0  3738.859654  105.378164   \n",
       "3                                            11553.7   121.169778   34.318379   \n",
       "4                                            19926.9   560.432683  189.333050   \n",
       "\n",
       "   light_density  \n",
       "0       1.000000  \n",
       "1       0.684760  \n",
       "2       0.783085  \n",
       "3       0.548610  \n",
       "4       1.000000  "
      ]
     },
     "execution_count": 17,
     "metadata": {},
     "output_type": "execute_result"
    }
   ],
   "source": [
    "predictors = ['OFFENSE_CODE_GROUP','SHOOTING', 'MONTH','HOUR', 'DAY_OF_WEEK', \\\n",
    "              'Population density (per square mile of land area)', \\\n",
    "              'BLDG_VAL', 'LAND_VAL',\\\n",
    "              'light_density']\n",
    "df = crime_property_light_population[predictors]\n",
    "df = df.dropna()\n",
    "df.head()"
   ]
  },
  {
   "cell_type": "code",
   "execution_count": 18,
   "metadata": {},
   "outputs": [],
   "source": [
    "#top5 = df['OFFENSE_CODE_GROUP'].value_counts().index[:5]\n",
    "# top5= ['Auto Theft','Motor Vehicle Accident Response', 'Larceny','Robbery','Residential Burglary']\n",
    "# #cut the df\n",
    "# df = df[df['OFFENSE_CODE_GROUP'].isin(top5)]\n",
    "#enc = OneHotEncoder(handle_unknown='ignore')"
   ]
  },
  {
   "cell_type": "code",
   "execution_count": 19,
   "metadata": {},
   "outputs": [
    {
     "data": {
      "text/html": [
       "<div>\n",
       "<style scoped>\n",
       "    .dataframe tbody tr th:only-of-type {\n",
       "        vertical-align: middle;\n",
       "    }\n",
       "\n",
       "    .dataframe tbody tr th {\n",
       "        vertical-align: top;\n",
       "    }\n",
       "\n",
       "    .dataframe thead th {\n",
       "        text-align: right;\n",
       "    }\n",
       "</style>\n",
       "<table border=\"1\" class=\"dataframe\">\n",
       "  <thead>\n",
       "    <tr style=\"text-align: right;\">\n",
       "      <th></th>\n",
       "      <th>OFFENSE_CODE_GROUP</th>\n",
       "      <th>SHOOTING</th>\n",
       "      <th>MONTH</th>\n",
       "      <th>HOUR</th>\n",
       "      <th>DAY_OF_WEEK</th>\n",
       "      <th>Population density (per square mile of land area)</th>\n",
       "      <th>BLDG_VAL</th>\n",
       "      <th>LAND_VAL</th>\n",
       "      <th>light_density</th>\n",
       "    </tr>\n",
       "  </thead>\n",
       "  <tbody>\n",
       "    <tr>\n",
       "      <th>0</th>\n",
       "      <td>2</td>\n",
       "      <td>0</td>\n",
       "      <td>7</td>\n",
       "      <td>23</td>\n",
       "      <td>0</td>\n",
       "      <td>19926.9</td>\n",
       "      <td>560.432683</td>\n",
       "      <td>189.333050</td>\n",
       "      <td>1.000000</td>\n",
       "    </tr>\n",
       "    <tr>\n",
       "      <th>1</th>\n",
       "      <td>2</td>\n",
       "      <td>0</td>\n",
       "      <td>8</td>\n",
       "      <td>12</td>\n",
       "      <td>5</td>\n",
       "      <td>15871.3</td>\n",
       "      <td>4156.595899</td>\n",
       "      <td>36.813618</td>\n",
       "      <td>0.684760</td>\n",
       "    </tr>\n",
       "    <tr>\n",
       "      <th>2</th>\n",
       "      <td>2</td>\n",
       "      <td>0</td>\n",
       "      <td>7</td>\n",
       "      <td>5</td>\n",
       "      <td>3</td>\n",
       "      <td>24456.0</td>\n",
       "      <td>3738.859654</td>\n",
       "      <td>105.378164</td>\n",
       "      <td>0.783085</td>\n",
       "    </tr>\n",
       "    <tr>\n",
       "      <th>3</th>\n",
       "      <td>2</td>\n",
       "      <td>0</td>\n",
       "      <td>8</td>\n",
       "      <td>16</td>\n",
       "      <td>1</td>\n",
       "      <td>11553.7</td>\n",
       "      <td>121.169778</td>\n",
       "      <td>34.318379</td>\n",
       "      <td>0.548610</td>\n",
       "    </tr>\n",
       "    <tr>\n",
       "      <th>4</th>\n",
       "      <td>2</td>\n",
       "      <td>0</td>\n",
       "      <td>8</td>\n",
       "      <td>18</td>\n",
       "      <td>0</td>\n",
       "      <td>19926.9</td>\n",
       "      <td>560.432683</td>\n",
       "      <td>189.333050</td>\n",
       "      <td>1.000000</td>\n",
       "    </tr>\n",
       "  </tbody>\n",
       "</table>\n",
       "</div>"
      ],
      "text/plain": [
       "   OFFENSE_CODE_GROUP  SHOOTING  MONTH  HOUR  DAY_OF_WEEK  \\\n",
       "0                   2         0      7    23            0   \n",
       "1                   2         0      8    12            5   \n",
       "2                   2         0      7     5            3   \n",
       "3                   2         0      8    16            1   \n",
       "4                   2         0      8    18            0   \n",
       "\n",
       "   Population density (per square mile of land area)     BLDG_VAL    LAND_VAL  \\\n",
       "0                                            19926.9   560.432683  189.333050   \n",
       "1                                            15871.3  4156.595899   36.813618   \n",
       "2                                            24456.0  3738.859654  105.378164   \n",
       "3                                            11553.7   121.169778   34.318379   \n",
       "4                                            19926.9   560.432683  189.333050   \n",
       "\n",
       "   light_density  \n",
       "0       1.000000  \n",
       "1       0.684760  \n",
       "2       0.783085  \n",
       "3       0.548610  \n",
       "4       1.000000  "
      ]
     },
     "execution_count": 19,
     "metadata": {},
     "output_type": "execute_result"
    }
   ],
   "source": [
    "#df_cat = enc.fit_transform(df[[\"MONTH\",\"SHOOTING\",\"DAY_OF_WEEK\"]]).toarray()\n",
    "\n",
    "#df_cat = pd.DataFrame(df_cat, columns=enc.get_feature_names(['MONTH','SHOOTING', 'DAY_OF_WEEK']))\n",
    "#df = pd.concat([df, df_cat], axis=1)\n",
    "#df = df.dropna()\n",
    "\n",
    "\n",
    "df.head()"
   ]
  },
  {
   "cell_type": "code",
   "execution_count": 20,
   "metadata": {},
   "outputs": [
    {
     "data": {
      "text/plain": [
       "29887"
      ]
     },
     "execution_count": 20,
     "metadata": {},
     "output_type": "execute_result"
    }
   ],
   "source": [
    "len(df)"
   ]
  },
  {
   "cell_type": "code",
   "execution_count": 21,
   "metadata": {},
   "outputs": [],
   "source": [
    "procs = [FillMissing, Categorify, Normalize]"
   ]
  },
  {
   "cell_type": "code",
   "execution_count": 22,
   "metadata": {},
   "outputs": [],
   "source": [
    "valid_idx = range(len(df)-5000, len(df))"
   ]
  },
  {
   "cell_type": "code",
   "execution_count": 23,
   "metadata": {},
   "outputs": [],
   "source": [
    "dep_var = 'OFFENSE_CODE_GROUP'\n",
    "cat_names = [\"MONTH\",\"SHOOTING\",\"DAY_OF_WEEK\",\"HOUR\"]\n",
    "\n",
    "data = TabularDataBunch.from_df('./model_data', df, dep_var, \\\n",
    "                                valid_idx=valid_idx, procs=procs, \\\n",
    "                                cat_names=cat_names)"
   ]
  },
  {
   "cell_type": "code",
   "execution_count": 24,
   "metadata": {},
   "outputs": [
    {
     "name": "stdout",
     "output_type": "stream",
     "text": [
      "['BLDG_VAL', 'Population density (per square mile of land area)', 'light_density', 'LAND_VAL']\n"
     ]
    }
   ],
   "source": [
    "print(data.train_ds.cont_names) "
   ]
  },
  {
   "cell_type": "code",
   "execution_count": 25,
   "metadata": {},
   "outputs": [
    {
     "data": {
      "text/html": [],
      "text/plain": [
       "<IPython.core.display.HTML object>"
      ]
     },
     "metadata": {},
     "output_type": "display_data"
    },
    {
     "name": "stdout",
     "output_type": "stream",
     "text": [
      "LR Finder is complete, type {learner_name}.recorder.plot() to see the graph.\n"
     ]
    }
   ],
   "source": [
    "learn = tabular_learner(data, layers=[200,100], metrics=[accuracy,fbeta])\n",
    "learn.lr_find(stop_div=False, num_it=50)"
   ]
  },
  {
   "cell_type": "code",
   "execution_count": 26,
   "metadata": {},
   "outputs": [
    {
     "data": {
      "image/png": "[encoded data removed]",
      "text/plain": [
       "<Figure size 432x288 with 1 Axes>"
      ]
     },
     "metadata": {
      "needs_background": "light"
     },
     "output_type": "display_data"
    }
   ],
   "source": [
    "learn.recorder.plot()"
   ]
  },
  {
   "cell_type": "code",
   "execution_count": 35,
   "metadata": {},
   "outputs": [
    {
     "ename": "TypeError",
     "evalue": "top_k_accuracy() missing 1 required positional argument: 'input'",
     "output_type": "error",
     "traceback": [
      "\u001b[0;31m---------------------------------------------------------------------------\u001b[0m",
      "\u001b[0;31mTypeError\u001b[0m                                 Traceback (most recent call last)",
      "\u001b[0;32m<ipython-input-35-91ed4b89c102>\u001b[0m in \u001b[0;36m<module>\u001b[0;34m()\u001b[0m\n\u001b[0;32m----> 1\u001b[0;31m learn = tabular_learner(data, layers=[200,100], metrics=top_k_accuracy(targs =                                     [0,1,2,3,4], k = 5)\n\u001b[0m\u001b[1;32m      2\u001b[0m                        )\n\u001b[1;32m      3\u001b[0m \u001b[0mlearn\u001b[0m\u001b[0;34m.\u001b[0m\u001b[0mfit_one_cycle\u001b[0m\u001b[0;34m(\u001b[0m\u001b[0;36m50\u001b[0m\u001b[0;34m,\u001b[0m \u001b[0;36m1e-3\u001b[0m\u001b[0;34m)\u001b[0m\u001b[0;34m\u001b[0m\u001b[0m\n",
      "\u001b[0;31mTypeError\u001b[0m: top_k_accuracy() missing 1 required positional argument: 'input'"
     ]
    }
   ],
   "source": [
    "learn = tabular_learner(data, layers=[200,100], metrics=top_k_accuracy(targs = \\\n",
    "                                    [0,1,2,3,4], k = 5)\n",
    "                       )\n",
    "learn.fit_one_cycle(50, 1e-3)"
   ]
  },
  {
   "cell_type": "code",
   "execution_count": null,
   "metadata": {},
   "outputs": [],
   "source": []
  },
  {
   "cell_type": "code",
   "execution_count": null,
   "metadata": {},
   "outputs": [],
   "source": []
  }
 ],
 "metadata": {
  "kernelspec": {
   "display_name": "Python 3",
   "language": "python",
   "name": "python3"
  },
  "language_info": {
   "codemirror_mode": {
    "name": "ipython",
    "version": 3
   },
   "file_extension": ".py",
   "mimetype": "text/x-python",
   "name": "python",
   "nbconvert_exporter": "python",
   "pygments_lexer": "ipython3",
   "version": "3.7.0"
  }
 },
 "nbformat": 4,
 "nbformat_minor": 2
}
