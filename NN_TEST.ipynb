{
 "cells": [
  {
   "cell_type": "code",
   "execution_count": 1,
   "metadata": {},
   "outputs": [],
   "source": [
    "import random\n",
    "random.seed(112358)\n",
    "\n",
    "import numpy as np\n",
    "import pandas as pd\n",
    "import matplotlib.pyplot as plt\n",
    "\n",
    "from sklearn.model_selection import cross_val_score\n",
    "from sklearn.utils import resample\n",
    "from sklearn.model_selection import train_test_split\n",
    "from sklearn.metrics import confusion_matrix\n",
    "from sklearn.preprocessing import scale\n",
    "from sklearn.metrics import roc_auc_score,accuracy_score\n",
    "from sklearn.model_selection import GridSearchCV\n",
    "from random import randint \n",
    "\n",
    "from sklearn import tree\n",
    "%matplotlib inline\n",
    "\n",
    "import seaborn as sns\n",
    "pd.set_option('display.width', 1500)\n",
    "pd.set_option('display.max_columns', 100)\n",
    "\n",
    "from sklearn.utils import shuffle"
   ]
  },
  {
   "cell_type": "code",
   "execution_count": 2,
   "metadata": {},
   "outputs": [
    {
     "name": "stdout",
     "output_type": "stream",
     "text": [
      "2.0.0\n"
     ]
    },
    {
     "name": "stderr",
     "output_type": "stream",
     "text": [
      "Using TensorFlow backend.\n"
     ]
    }
   ],
   "source": [
    "import tensorflow as tf\n",
    "from tensorflow.keras import layers\n",
    "import keras\n",
    "import keras_metrics\n",
    "from keras import metrics\n",
    "print(tf.__version__) "
   ]
  },
  {
   "cell_type": "code",
   "execution_count": 3,
   "metadata": {},
   "outputs": [],
   "source": [
    "def traceplot(model_hist):\n",
    "    fig, ax = plt.subplots(2,1)\n",
    "    ax[0].plot(model_hist.history['loss'], color='b', label=\"Training loss\")\n",
    "    ax[0].plot(model_hist.history['val_loss'], color='r', label=\"validation loss\",axes =ax[0])\n",
    "    legend = ax[0].legend(loc='best', shadow=True)\n",
    "\n",
    "    ax[1].plot(model_hist.history['acc'], color='b', label=\"Training accuracy\")\n",
    "    ax[1].plot(model_hist.history['val_acc'], color='r',label=\"Validation accuracy\")\n",
    "    legend = ax[1].legend(loc='best', shadow=True)\n",
    "    plt.show()"
   ]
  },
  {
   "cell_type": "code",
   "execution_count": 6,
   "metadata": {},
   "outputs": [],
   "source": [
    "df_train = pd.read_csv('./data/train_bin_norm_extend.csv').iloc[:,1:]\n",
    "df_test=pd.read_csv('./data/test_bin_norm_extend.csv').iloc[:,1:]\n",
    "df_train =df_train.dropna()\n",
    "df_test = df_test.dropna()"
   ]
  },
  {
   "cell_type": "code",
   "execution_count": 7,
   "metadata": {},
   "outputs": [
    {
     "data": {
      "text/plain": [
       "51"
      ]
     },
     "execution_count": 7,
     "metadata": {},
     "output_type": "execute_result"
    }
   ],
   "source": [
    "len(df_train.columns)"
   ]
  },
  {
   "cell_type": "code",
   "execution_count": 8,
   "metadata": {},
   "outputs": [],
   "source": [
    "y_train = df_train['OFFENSE_CODE_GROUP']\n",
    "y_test = df_test['OFFENSE_CODE_GROUP']\n",
    "X_train = df_train.drop(['OFFENSE_CODE_GROUP'],errors = 'ignore',axis =1)\n",
    "X_test= df_test.drop(['OFFENSE_CODE_GROUP'],errors = 'ignore', axis =1)\n"
   ]
  },
  {
   "cell_type": "code",
   "execution_count": 9,
   "metadata": {},
   "outputs": [
    {
     "data": {
      "text/plain": [
       "(110685, 50)"
      ]
     },
     "execution_count": 9,
     "metadata": {},
     "output_type": "execute_result"
    }
   ],
   "source": [
    "X_train.shape"
   ]
  },
  {
   "cell_type": "code",
   "execution_count": 10,
   "metadata": {},
   "outputs": [
    {
     "data": {
      "text/plain": [
       "Index(['Population density (per square mile of land area)', 'BLDG_VAL', 'LAND_VAL', 'Lat', 'Long', 'light_count', 'graffiti_count', 'HU100_RE', 'Low_to_No', 'SHOOTING_1', 'MONTH_2', 'MONTH_3', 'MONTH_4', 'MONTH_5', 'MONTH_6', 'MONTH_7', 'MONTH_8', 'MONTH_9', 'MONTH_10', 'MONTH_11', 'MONTH_12', 'DAY_OF_WEEK_1', 'DAY_OF_WEEK_2', 'DAY_OF_WEEK_3', 'DAY_OF_WEEK_4', 'DAY_OF_WEEK_5', 'DAY_OF_WEEK_6', 'HOUR_1', 'HOUR_2', 'HOUR_3', 'HOUR_4', 'HOUR_5', 'HOUR_6', 'HOUR_7', 'HOUR_8', 'HOUR_9', 'HOUR_10', 'HOUR_11', 'HOUR_12', 'HOUR_13', 'HOUR_14', 'HOUR_15', 'HOUR_16', 'HOUR_17', 'HOUR_18', 'HOUR_19', 'HOUR_20', 'HOUR_21', 'HOUR_22', 'HOUR_23'], dtype='object')"
      ]
     },
     "execution_count": 10,
     "metadata": {},
     "output_type": "execute_result"
    }
   ],
   "source": [
    "X_train.columns"
   ]
  },
  {
   "cell_type": "code",
   "execution_count": 11,
   "metadata": {},
   "outputs": [],
   "source": [
    "# convert class vectors to binary class matrices\n",
    "num_classes = 5\n",
    "y_train = keras.utils.to_categorical(y_train, num_classes)\n",
    "y_test = keras.utils.to_categorical(y_test, num_classes)"
   ]
  },
  {
   "cell_type": "code",
   "execution_count": 12,
   "metadata": {},
   "outputs": [
    {
     "data": {
      "text/plain": [
       "(110685, 5)"
      ]
     },
     "execution_count": 12,
     "metadata": {},
     "output_type": "execute_result"
    }
   ],
   "source": [
    "y_train.shape"
   ]
  },
  {
   "cell_type": "code",
   "execution_count": 13,
   "metadata": {},
   "outputs": [],
   "source": [
    "earlystop = tf.keras.callbacks.EarlyStopping(monitor='val_loss', \\\n",
    "                                                         patience=30, \\\n",
    "                                                         verbose=0, mode='min',\n",
    "                                                        restore_best_weights= True)"
   ]
  },
  {
   "cell_type": "code",
   "execution_count": 17,
   "metadata": {},
   "outputs": [],
   "source": [
    "model = tf.keras.Sequential([ \n",
    "    layers.Dense(100, activation = 'relu',input_shape = (50,)),\n",
    "    layers.Dense(50, activation = 'relu'),\n",
    "    layers.Dense(5, activation = 'softmax'),\n",
    "    \n",
    "])"
   ]
  },
  {
   "cell_type": "code",
   "execution_count": 18,
   "metadata": {},
   "outputs": [
    {
     "name": "stdout",
     "output_type": "stream",
     "text": [
      "tracking <tf.Variable 'Variable:0' shape=() dtype=int32, numpy=0> tp\n",
      "tracking <tf.Variable 'Variable:0' shape=() dtype=int32, numpy=0> fp\n",
      "tracking <tf.Variable 'Variable:0' shape=() dtype=int32, numpy=0> tp\n",
      "tracking <tf.Variable 'Variable:0' shape=() dtype=int32, numpy=0> fn\n",
      "Model: \"sequential_1\"\n",
      "_________________________________________________________________\n",
      "Layer (type)                 Output Shape              Param #   \n",
      "=================================================================\n",
      "dense_3 (Dense)              (None, 100)               5100      \n",
      "_________________________________________________________________\n",
      "dense_4 (Dense)              (None, 50)                5050      \n",
      "_________________________________________________________________\n",
      "dense_5 (Dense)              (None, 5)                 255       \n",
      "=================================================================\n",
      "Total params: 10,405\n",
      "Trainable params: 10,405\n",
      "Non-trainable params: 0\n",
      "_________________________________________________________________\n"
     ]
    }
   ],
   "source": [
    "model.compile(optimizer=\"Adam\",\n",
    "              loss=\"categorical_crossentropy\",\n",
    "              metrics=['acc', keras_metrics.precision(), keras_metrics.recall()])\n",
    "model.summary()"
   ]
  },
  {
   "cell_type": "code",
   "execution_count": null,
   "metadata": {},
   "outputs": [
    {
     "name": "stdout",
     "output_type": "stream",
     "text": [
      "Train on 88548 samples, validate on 22137 samples\n",
      "Epoch 1/200\n",
      "88548/88548 [==============================] - 7s 77us/sample - loss: 0.9831 - acc: 0.4939 - precision: 0.0000e+00 - recall: 0.0000e+00 - val_loss: 19.2324 - val_acc: 0.0300 - val_precision: 0.0000e+00 - val_recall: 0.0000e+00\n",
      "Epoch 2/200\n",
      "88548/88548 [==============================] - 7s 76us/sample - loss: 0.9825 - acc: 0.4943 - precision: 0.0000e+00 - recall: 0.0000e+00 - val_loss: 19.2721 - val_acc: 0.0261 - val_precision: 0.0000e+00 - val_recall: 0.0000e+00\n",
      "Epoch 3/200\n",
      "88548/88548 [==============================] - 7s 83us/sample - loss: 0.9823 - acc: 0.4943 - precision: 0.0000e+00 - recall: 0.0000e+00 - val_loss: 19.1263 - val_acc: 0.0318 - val_precision: 0.0000e+00 - val_recall: 0.0000e+00\n",
      "Epoch 4/200\n",
      "88548/88548 [==============================] - 7s 81us/sample - loss: 0.9821 - acc: 0.4948 - precision: 0.0000e+00 - recall: 0.0000e+00 - val_loss: 19.3954 - val_acc: 0.0364 - val_precision: 0.0000e+00 - val_recall: 0.0000e+00\n",
      "Epoch 5/200\n",
      "88548/88548 [==============================] - 7s 77us/sample - loss: 0.9820 - acc: 0.4957 - precision: 0.0000e+00 - recall: 0.0000e+00 - val_loss: 18.9867 - val_acc: 0.0357 - val_precision: 0.0000e+00 - val_recall: 0.0000e+00\n",
      "Epoch 6/200\n",
      "88548/88548 [==============================] - 7s 77us/sample - loss: 0.9811 - acc: 0.4957 - precision: 0.0000e+00 - recall: 0.0000e+00 - val_loss: 19.4659 - val_acc: 0.0329 - val_precision: 0.0000e+00 - val_recall: 0.0000e+00\n",
      "Epoch 7/200\n",
      "88548/88548 [==============================] - 7s 76us/sample - loss: 0.9809 - acc: 0.4950 - precision: 0.0000e+00 - recall: 0.0000e+00 - val_loss: 19.7638 - val_acc: 0.0270 - val_precision: 0.0000e+00 - val_recall: 0.0000e+00\n",
      "Epoch 8/200\n",
      "88548/88548 [==============================] - 7s 76us/sample - loss: 0.9803 - acc: 0.4962 - precision: 0.0000e+00 - recall: 0.0000e+00 - val_loss: 19.5107 - val_acc: 0.0284 - val_precision: 0.0000e+00 - val_recall: 0.0000e+00\n",
      "Epoch 9/200\n",
      "88548/88548 [==============================] - 7s 75us/sample - loss: 0.9802 - acc: 0.4961 - precision: 0.0000e+00 - recall: 0.0000e+00 - val_loss: 19.7075 - val_acc: 0.0305 - val_precision: 0.0000e+00 - val_recall: 0.0000e+00\n",
      "Epoch 10/200\n",
      "88548/88548 [==============================] - 7s 75us/sample - loss: 0.9799 - acc: 0.4952 - precision: 0.0000e+00 - recall: 0.0000e+00 - val_loss: 19.8021 - val_acc: 0.0327 - val_precision: 0.0000e+00 - val_recall: 0.0000e+00\n",
      "Epoch 11/200\n",
      "88548/88548 [==============================] - 7s 75us/sample - loss: 0.9793 - acc: 0.4985 - precision: 0.0000e+00 - recall: 0.0000e+00 - val_loss: 20.0946 - val_acc: 0.0278 - val_precision: 0.0000e+00 - val_recall: 0.0000e+00\n",
      "Epoch 12/200\n",
      "88548/88548 [==============================] - 7s 77us/sample - loss: 0.9788 - acc: 0.4963 - precision: 0.0000e+00 - recall: 0.0000e+00 - val_loss: 19.8960 - val_acc: 0.0295 - val_precision: 0.0000e+00 - val_recall: 0.0000e+00778 - acc: 0.4973 - precis\n",
      "Epoch 13/200\n",
      "88548/88548 [==============================] - 7s 75us/sample - loss: 0.9787 - acc: 0.4965 - precision: 0.0000e+00 - recall: 0.0000e+00 - val_loss: 19.6681 - val_acc: 0.0312 - val_precision: 0.0000e+00 - val_recall: 0.0000e+0000\n",
      "Epoch 14/200\n",
      "88548/88548 [==============================] - 7s 78us/sample - loss: 0.9786 - acc: 0.4969 - precision: 0.0000e+00 - recall: 0.0000e+00 - val_loss: 19.6675 - val_acc: 0.0345 - val_precision: 0.0000e+00 - val_recall: 0.0000e+00\n",
      "Epoch 15/200\n",
      "88548/88548 [==============================] - 7s 77us/sample - loss: 0.9776 - acc: 0.4975 - precision: 0.0000e+00 - recall: 0.0000e+00 - val_loss: 20.3553 - val_acc: 0.0335 - val_precision: 0.0000e+00 - val_recall: 0.0000e+00\n",
      "Epoch 16/200\n",
      "88548/88548 [==============================] - 7s 76us/sample - loss: 0.9771 - acc: 0.4986 - precision: 0.0000e+00 - recall: 0.0000e+00 - val_loss: 19.7338 - val_acc: 0.0319 - val_precision: 0.0000e+00 - val_recall: 0.0000e+00\n",
      "Epoch 17/200\n",
      "64416/88548 [====================>.........] - ETA: 1s - loss: 0.9757 - acc: 0.4984 - precision: 0.0000e+00 - recall: 0.0000e+00"
     ]
    }
   ],
   "source": [
    "history = model.fit(X_train.values, y_train, \\\n",
    "          epochs=200, batch_size=16, validation_split = 0.2, )"
   ]
  },
  {
   "cell_type": "code",
   "execution_count": 133,
   "metadata": {},
   "outputs": [
    {
     "data": {
      "image/png": "[encoded data removed]",
      "text/plain": [
       "<Figure size 432x288 with 2 Axes>"
      ]
     },
     "metadata": {
      "needs_background": "light"
     },
     "output_type": "display_data"
    }
   ],
   "source": [
    "traceplot(history)"
   ]
  },
  {
   "cell_type": "code",
   "execution_count": 138,
   "metadata": {},
   "outputs": [
    {
     "name": "stderr",
     "output_type": "stream",
     "text": [
      "W1209 01:25:46.577294 4616363456 training.py:504] Falling back from v2 loop because of error: Failed to find data adapter that can handle input: <class 'pandas.core.frame.DataFrame'>, <class 'NoneType'>\n"
     ]
    },
    {
     "data": {
      "text/plain": [
       "0.7429064116632701"
      ]
     },
     "execution_count": 138,
     "metadata": {},
     "output_type": "execute_result"
    }
   ],
   "source": [
    "preds = model.predict_classes(X_train) \n",
    "acc_train = np.mean(preds == df_train['OFFENSE_CODE_GROUP'])\n",
    "acc_train"
   ]
  },
  {
   "cell_type": "code",
   "execution_count": 139,
   "metadata": {},
   "outputs": [
    {
     "name": "stderr",
     "output_type": "stream",
     "text": [
      "W1209 01:25:47.465811 4616363456 training.py:504] Falling back from v2 loop because of error: Failed to find data adapter that can handle input: <class 'pandas.core.frame.DataFrame'>, <class 'NoneType'>\n"
     ]
    },
    {
     "data": {
      "text/plain": [
       "0.3562447611064543"
      ]
     },
     "execution_count": 139,
     "metadata": {},
     "output_type": "execute_result"
    }
   ],
   "source": [
    "preds = model.predict_classes(X_test) \n",
    "acc_test = np.mean(preds == df_test['OFFENSE_CODE_GROUP'])\n",
    "acc_test"
   ]
  },
  {
   "cell_type": "code",
   "execution_count": 98,
   "metadata": {},
   "outputs": [
    {
     "data": {
      "text/plain": [
       "19137"
      ]
     },
     "execution_count": 98,
     "metadata": {},
     "output_type": "execute_result"
    }
   ],
   "source": [
    "len(X_test)"
   ]
  },
  {
   "cell_type": "code",
   "execution_count": null,
   "metadata": {},
   "outputs": [],
   "source": []
  }
 ],
 "metadata": {
  "kernelspec": {
   "display_name": "Python 3",
   "language": "python",
   "name": "python3"
  },
  "language_info": {
   "codemirror_mode": {
    "name": "ipython",
    "version": 3
   },
   "file_extension": ".py",
   "mimetype": "text/x-python",
   "name": "python",
   "nbconvert_exporter": "python",
   "pygments_lexer": "ipython3",
   "version": "3.7.0"
  }
 },
 "nbformat": 4,
 "nbformat_minor": 2
}
