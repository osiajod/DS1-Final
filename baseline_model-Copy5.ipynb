{
 "cells": [
  {
   "cell_type": "code",
   "execution_count": 1,
   "metadata": {},
   "outputs": [],
   "source": [
    "import pandas as pd\n",
    "import sklearn\n",
    "from matplotlib import pyplot as plt\n",
    "\n",
    "from sklearn.linear_model import LinearRegression\n",
    "from sklearn.linear_model import LogisticRegression\n",
    "from sklearn.linear_model import LogisticRegressionCV\n",
    "from sklearn.linear_model import LassoCV\n",
    "\n",
    "from sklearn.neighbors import KNeighborsClassifier\n",
    "from sklearn.model_selection import cross_val_score\n",
    "from sklearn.metrics import accuracy_score\n",
    "from sklearn.model_selection import KFold\n",
    "from sklearn.preprocessing import MinMaxScaler\n",
    "from sklearn.model_selection import train_test_split\n",
    "from sklearn.decomposition import PCA\n",
    "from sklearn import metrics\n",
    "from sklearn.preprocessing import OneHotEncoder\n",
    "from sklearn.preprocessing import LabelEncoder\n",
    "from sklearn.neighbors import KNeighborsClassifier \n",
    "from sklearn.metrics import multilabel_confusion_matrix\n",
    "\n",
    "%matplotlib inline\n",
    "\n",
    "import statsmodels.api as sm\n",
    "from statsmodels.api import OLS"
   ]
  },
  {
   "cell_type": "code",
   "execution_count": 2,
   "metadata": {},
   "outputs": [],
   "source": [
    "crime_property_light_population= pd.read_csv(\"./model_data/crime_light_density.csv\")\n",
    "crime_property_light_population.head()\n",
    "\n",
    "predictors = ['OFFENSE_CODE_GROUP','SHOOTING', 'MONTH', 'DAY_OF_WEEK', 'HOUR', 'Population density (per square mile of land area)', 'BLDG_VAL', 'LAND_VAL','light_density']\n",
    "df = crime_property_light_population[predictors]\n",
    "df = df.dropna()"
   ]
  },
  {
   "cell_type": "code",
   "execution_count": 19,
   "metadata": {},
   "outputs": [],
   "source": [
    "top5 = df['OFFENSE_CODE_GROUP'].value_counts().index[:5]\n",
    "\n",
    "#cut the df\n",
    "df = df[df['OFFENSE_CODE_GROUP'].isin(top5)]"
   ]
  },
  {
   "cell_type": "code",
   "execution_count": 20,
   "metadata": {},
   "outputs": [],
   "source": [
    "#Let's label encode & one-hot encode the Categoricals (SHOOTING, DAY_OF_WEEK)\n",
    "\n",
    "enc = OneHotEncoder(handle_unknown='ignore')\n",
    "\n",
    "le = LabelEncoder() \n",
    "  \n",
    "df['SHOOTING']= le.fit_transform(df['SHOOTING'])\n",
    "df['DAY_OF_WEEK']= le.fit_transform(df['DAY_OF_WEEK']) \n",
    "df['OFFENSE_CODE_GROUP'] = le.fit_transform(df['OFFENSE_CODE_GROUP'])"
   ]
  },
  {
   "cell_type": "code",
   "execution_count": 21,
   "metadata": {},
   "outputs": [
    {
     "data": {
      "text/html": [
       "<div>\n<style scoped>\n    .dataframe tbody tr th:only-of-type {\n        vertical-align: middle;\n    }\n\n    .dataframe tbody tr th {\n        vertical-align: top;\n    }\n\n    .dataframe thead th {\n        text-align: right;\n    }\n</style>\n<table border=\"1\" class=\"dataframe\">\n  <thead>\n    <tr style=\"text-align: right;\">\n      <th></th>\n      <th>OFFENSE_CODE_GROUP</th>\n      <th>SHOOTING</th>\n      <th>MONTH</th>\n      <th>DAY_OF_WEEK</th>\n      <th>HOUR</th>\n      <th>Population density (per square mile of land area)</th>\n      <th>BLDG_VAL</th>\n      <th>LAND_VAL</th>\n      <th>light_density</th>\n      <th>MONTH_1</th>\n      <th>...</th>\n      <th>MONTH_12.0</th>\n      <th>SHOOTING_0</th>\n      <th>SHOOTING_1</th>\n      <th>DAY_OF_WEEK_0</th>\n      <th>DAY_OF_WEEK_1</th>\n      <th>DAY_OF_WEEK_2</th>\n      <th>DAY_OF_WEEK_3</th>\n      <th>DAY_OF_WEEK_4</th>\n      <th>DAY_OF_WEEK_5</th>\n      <th>DAY_OF_WEEK_6</th>\n    </tr>\n  </thead>\n  <tbody>\n    <tr>\n      <th>6</th>\n      <td>0.0</td>\n      <td>0.0</td>\n      <td>9.0</td>\n      <td>3.0</td>\n      <td>3.0</td>\n      <td>26693.9</td>\n      <td>3362.723369</td>\n      <td>581.882742</td>\n      <td>0.699176</td>\n      <td>0.0</td>\n      <td>...</td>\n      <td>0.0</td>\n      <td>1.0</td>\n      <td>0.0</td>\n      <td>0.0</td>\n      <td>0.0</td>\n      <td>0.0</td>\n      <td>1.0</td>\n      <td>0.0</td>\n      <td>0.0</td>\n      <td>0.0</td>\n    </tr>\n    <tr>\n      <th>9</th>\n      <td>3.0</td>\n      <td>0.0</td>\n      <td>9.0</td>\n      <td>3.0</td>\n      <td>5.0</td>\n      <td>24074.6</td>\n      <td>5490.169358</td>\n      <td>260.905478</td>\n      <td>0.728900</td>\n      <td>0.0</td>\n      <td>...</td>\n      <td>0.0</td>\n      <td>1.0</td>\n      <td>0.0</td>\n      <td>0.0</td>\n      <td>0.0</td>\n      <td>0.0</td>\n      <td>1.0</td>\n      <td>0.0</td>\n      <td>0.0</td>\n      <td>0.0</td>\n    </tr>\n    <tr>\n      <th>10</th>\n      <td>0.0</td>\n      <td>0.0</td>\n      <td>9.0</td>\n      <td>3.0</td>\n      <td>1.0</td>\n      <td>8352.4</td>\n      <td>2009.317606</td>\n      <td>59.185114</td>\n      <td>0.525616</td>\n      <td>0.0</td>\n      <td>...</td>\n      <td>0.0</td>\n      <td>1.0</td>\n      <td>0.0</td>\n      <td>0.0</td>\n      <td>0.0</td>\n      <td>1.0</td>\n      <td>0.0</td>\n      <td>0.0</td>\n      <td>0.0</td>\n      <td>0.0</td>\n    </tr>\n    <tr>\n      <th>16</th>\n      <td>3.0</td>\n      <td>0.0</td>\n      <td>9.0</td>\n      <td>3.0</td>\n      <td>0.0</td>\n      <td>15913.2</td>\n      <td>1293.230035</td>\n      <td>31.015855</td>\n      <td>0.568578</td>\n      <td>0.0</td>\n      <td>...</td>\n      <td>0.0</td>\n      <td>1.0</td>\n      <td>0.0</td>\n      <td>0.0</td>\n      <td>0.0</td>\n      <td>1.0</td>\n      <td>0.0</td>\n      <td>0.0</td>\n      <td>0.0</td>\n      <td>0.0</td>\n    </tr>\n    <tr>\n      <th>18</th>\n      <td>0.0</td>\n      <td>0.0</td>\n      <td>9.0</td>\n      <td>3.0</td>\n      <td>3.0</td>\n      <td>14884.4</td>\n      <td>1040.984096</td>\n      <td>31.260815</td>\n      <td>0.640733</td>\n      <td>0.0</td>\n      <td>...</td>\n      <td>0.0</td>\n      <td>1.0</td>\n      <td>0.0</td>\n      <td>0.0</td>\n      <td>0.0</td>\n      <td>1.0</td>\n      <td>0.0</td>\n      <td>0.0</td>\n      <td>0.0</td>\n      <td>0.0</td>\n    </tr>\n  </tbody>\n</table>\n<p>5 rows × 51 columns</p>\n</div>"
      ],
      "text/plain": [
       "    OFFENSE_CODE_GROUP  SHOOTING  MONTH  DAY_OF_WEEK  HOUR  \\\n6                  0.0       0.0    9.0          3.0   3.0   \n9                  3.0       0.0    9.0          3.0   5.0   \n10                 0.0       0.0    9.0          3.0   1.0   \n16                 3.0       0.0    9.0          3.0   0.0   \n18                 0.0       0.0    9.0          3.0   3.0   \n\n    Population density (per square mile of land area)     BLDG_VAL  \\\n6                                             26693.9  3362.723369   \n9                                             24074.6  5490.169358   \n10                                             8352.4  2009.317606   \n16                                            15913.2  1293.230035   \n18                                            14884.4  1040.984096   \n\n      LAND_VAL  light_density  MONTH_1  ...  MONTH_12.0  SHOOTING_0  \\\n6   581.882742       0.699176      0.0  ...         0.0         1.0   \n9   260.905478       0.728900      0.0  ...         0.0         1.0   \n10   59.185114       0.525616      0.0  ...         0.0         1.0   \n16   31.015855       0.568578      0.0  ...         0.0         1.0   \n18   31.260815       0.640733      0.0  ...         0.0         1.0   \n\n    SHOOTING_1  DAY_OF_WEEK_0  DAY_OF_WEEK_1  DAY_OF_WEEK_2  DAY_OF_WEEK_3  \\\n6          0.0            0.0            0.0            0.0            1.0   \n9          0.0            0.0            0.0            0.0            1.0   \n10         0.0            0.0            0.0            1.0            0.0   \n16         0.0            0.0            0.0            1.0            0.0   \n18         0.0            0.0            0.0            1.0            0.0   \n\n    DAY_OF_WEEK_4  DAY_OF_WEEK_5  DAY_OF_WEEK_6  \n6             0.0            0.0            0.0  \n9             0.0            0.0            0.0  \n10            0.0            0.0            0.0  \n16            0.0            0.0            0.0  \n18            0.0            0.0            0.0  \n\n[5 rows x 51 columns]"
      ]
     },
     "execution_count": 21,
     "metadata": {},
     "output_type": "execute_result"
    }
   ],
   "source": [
    "df_cat = enc.fit_transform(df[[\"MONTH\",\"SHOOTING\",\"DAY_OF_WEEK\"]]).toarray()\n",
    "\n",
    "df_cat = pd.DataFrame(df_cat, columns=enc.get_feature_names(['MONTH','SHOOTING', 'DAY_OF_WEEK']))\n",
    "df = pd.concat([df, df_cat], axis=1)\n",
    "df = df.dropna()\n",
    "\n",
    "df.head()"
   ]
  },
  {
   "cell_type": "code",
   "execution_count": 22,
   "metadata": {},
   "outputs": [],
   "source": [
    "\n",
    "X_train, X_test, y_train, y_test = train_test_split(df.loc[:, df.columns != 'OFFENSE_CODE_GROUP'], \n",
    "                                                         df.OFFENSE_CODE_GROUP, test_size=0.2, \n",
    "                                                         random_state = 109, \n",
    "                                                         stratify = df.OFFENSE_CODE_GROUP)"
   ]
  },
  {
   "cell_type": "code",
   "execution_count": 23,
   "metadata": {},
   "outputs": [
    {
     "data": {
      "text/html": [
       "<div>\n<style scoped>\n    .dataframe tbody tr th:only-of-type {\n        vertical-align: middle;\n    }\n\n    .dataframe tbody tr th {\n        vertical-align: top;\n    }\n\n    .dataframe thead th {\n        text-align: right;\n    }\n</style>\n<table border=\"1\" class=\"dataframe\">\n  <thead>\n    <tr style=\"text-align: right;\">\n      <th></th>\n      <th>SHOOTING</th>\n      <th>MONTH</th>\n      <th>DAY_OF_WEEK</th>\n      <th>HOUR</th>\n      <th>Population density (per square mile of land area)</th>\n      <th>BLDG_VAL</th>\n      <th>LAND_VAL</th>\n      <th>light_density</th>\n      <th>MONTH_1</th>\n      <th>MONTH_2</th>\n      <th>...</th>\n      <th>MONTH_12.0</th>\n      <th>SHOOTING_0</th>\n      <th>SHOOTING_1</th>\n      <th>DAY_OF_WEEK_0</th>\n      <th>DAY_OF_WEEK_1</th>\n      <th>DAY_OF_WEEK_2</th>\n      <th>DAY_OF_WEEK_3</th>\n      <th>DAY_OF_WEEK_4</th>\n      <th>DAY_OF_WEEK_5</th>\n      <th>DAY_OF_WEEK_6</th>\n    </tr>\n  </thead>\n  <tbody>\n    <tr>\n      <th>101935</th>\n      <td>0.0</td>\n      <td>8.0</td>\n      <td>1.0</td>\n      <td>18.0</td>\n      <td>15744.4</td>\n      <td>10385.587535</td>\n      <td>109.607753</td>\n      <td>0.644978</td>\n      <td>0.0</td>\n      <td>0.0</td>\n      <td>...</td>\n      <td>0.0</td>\n      <td>1.0</td>\n      <td>0.0</td>\n      <td>0.0</td>\n      <td>0.0</td>\n      <td>0.0</td>\n      <td>0.0</td>\n      <td>0.0</td>\n      <td>1.0</td>\n      <td>0.0</td>\n    </tr>\n    <tr>\n      <th>18909</th>\n      <td>0.0</td>\n      <td>7.0</td>\n      <td>1.0</td>\n      <td>17.0</td>\n      <td>16236.4</td>\n      <td>1135.641813</td>\n      <td>46.780408</td>\n      <td>0.574557</td>\n      <td>0.0</td>\n      <td>0.0</td>\n      <td>...</td>\n      <td>0.0</td>\n      <td>1.0</td>\n      <td>0.0</td>\n      <td>0.0</td>\n      <td>0.0</td>\n      <td>0.0</td>\n      <td>0.0</td>\n      <td>0.0</td>\n      <td>1.0</td>\n      <td>0.0</td>\n    </tr>\n    <tr>\n      <th>107578</th>\n      <td>0.0</td>\n      <td>7.0</td>\n      <td>3.0</td>\n      <td>20.0</td>\n      <td>21720.8</td>\n      <td>6001.500969</td>\n      <td>516.524296</td>\n      <td>0.738507</td>\n      <td>0.0</td>\n      <td>0.0</td>\n      <td>...</td>\n      <td>0.0</td>\n      <td>1.0</td>\n      <td>0.0</td>\n      <td>0.0</td>\n      <td>0.0</td>\n      <td>0.0</td>\n      <td>1.0</td>\n      <td>0.0</td>\n      <td>0.0</td>\n      <td>0.0</td>\n    </tr>\n    <tr>\n      <th>130942</th>\n      <td>0.0</td>\n      <td>5.0</td>\n      <td>4.0</td>\n      <td>15.0</td>\n      <td>40159.2</td>\n      <td>8464.863983</td>\n      <td>333.361435</td>\n      <td>0.714606</td>\n      <td>0.0</td>\n      <td>0.0</td>\n      <td>...</td>\n      <td>1.0</td>\n      <td>1.0</td>\n      <td>0.0</td>\n      <td>0.0</td>\n      <td>1.0</td>\n      <td>0.0</td>\n      <td>0.0</td>\n      <td>0.0</td>\n      <td>0.0</td>\n      <td>0.0</td>\n    </tr>\n    <tr>\n      <th>78168</th>\n      <td>0.0</td>\n      <td>11.0</td>\n      <td>6.0</td>\n      <td>16.0</td>\n      <td>24074.6</td>\n      <td>5490.169358</td>\n      <td>260.905478</td>\n      <td>0.728900</td>\n      <td>0.0</td>\n      <td>0.0</td>\n      <td>...</td>\n      <td>0.0</td>\n      <td>1.0</td>\n      <td>0.0</td>\n      <td>0.0</td>\n      <td>1.0</td>\n      <td>0.0</td>\n      <td>0.0</td>\n      <td>0.0</td>\n      <td>0.0</td>\n      <td>0.0</td>\n    </tr>\n  </tbody>\n</table>\n<p>5 rows × 50 columns</p>\n</div>"
      ],
      "text/plain": [
       "        SHOOTING  MONTH  DAY_OF_WEEK  HOUR  \\\n101935       0.0    8.0          1.0  18.0   \n18909        0.0    7.0          1.0  17.0   \n107578       0.0    7.0          3.0  20.0   \n130942       0.0    5.0          4.0  15.0   \n78168        0.0   11.0          6.0  16.0   \n\n        Population density (per square mile of land area)      BLDG_VAL  \\\n101935                                            15744.4  10385.587535   \n18909                                             16236.4   1135.641813   \n107578                                            21720.8   6001.500969   \n130942                                            40159.2   8464.863983   \n78168                                             24074.6   5490.169358   \n\n          LAND_VAL  light_density  MONTH_1  MONTH_2  ...  MONTH_12.0  \\\n101935  109.607753       0.644978      0.0      0.0  ...         0.0   \n18909    46.780408       0.574557      0.0      0.0  ...         0.0   \n107578  516.524296       0.738507      0.0      0.0  ...         0.0   \n130942  333.361435       0.714606      0.0      0.0  ...         1.0   \n78168   260.905478       0.728900      0.0      0.0  ...         0.0   \n\n        SHOOTING_0  SHOOTING_1  DAY_OF_WEEK_0  DAY_OF_WEEK_1  DAY_OF_WEEK_2  \\\n101935         1.0         0.0            0.0            0.0            0.0   \n18909          1.0         0.0            0.0            0.0            0.0   \n107578         1.0         0.0            0.0            0.0            0.0   \n130942         1.0         0.0            0.0            1.0            0.0   \n78168          1.0         0.0            0.0            1.0            0.0   \n\n        DAY_OF_WEEK_3  DAY_OF_WEEK_4  DAY_OF_WEEK_5  DAY_OF_WEEK_6  \n101935            0.0            0.0            1.0            0.0  \n18909             0.0            0.0            1.0            0.0  \n107578            1.0            0.0            0.0            0.0  \n130942            0.0            0.0            0.0            0.0  \n78168             0.0            0.0            0.0            0.0  \n\n[5 rows x 50 columns]"
      ]
     },
     "execution_count": 23,
     "metadata": {},
     "output_type": "execute_result"
    }
   ],
   "source": [
    "\n",
    "X_train.head()"
   ]
  },
  {
   "cell_type": "code",
   "execution_count": 24,
   "metadata": {},
   "outputs": [
    {
     "data": {
      "text/html": [
       "<div>\n<style scoped>\n    .dataframe tbody tr th:only-of-type {\n        vertical-align: middle;\n    }\n\n    .dataframe tbody tr th {\n        vertical-align: top;\n    }\n\n    .dataframe thead th {\n        text-align: right;\n    }\n</style>\n<table border=\"1\" class=\"dataframe\">\n  <thead>\n    <tr style=\"text-align: right;\">\n      <th></th>\n      <th>SHOOTING</th>\n      <th>MONTH</th>\n      <th>DAY_OF_WEEK</th>\n      <th>HOUR</th>\n      <th>Population density (per square mile of land area)</th>\n      <th>BLDG_VAL</th>\n      <th>LAND_VAL</th>\n      <th>light_density</th>\n      <th>MONTH_1</th>\n      <th>MONTH_2</th>\n      <th>...</th>\n      <th>MONTH_12.0</th>\n      <th>SHOOTING_0</th>\n      <th>SHOOTING_1</th>\n      <th>DAY_OF_WEEK_0</th>\n      <th>DAY_OF_WEEK_1</th>\n      <th>DAY_OF_WEEK_2</th>\n      <th>DAY_OF_WEEK_3</th>\n      <th>DAY_OF_WEEK_4</th>\n      <th>DAY_OF_WEEK_5</th>\n      <th>DAY_OF_WEEK_6</th>\n    </tr>\n  </thead>\n  <tbody>\n    <tr>\n      <th>101935</th>\n      <td>0.0</td>\n      <td>0.636364</td>\n      <td>0.166667</td>\n      <td>0.782609</td>\n      <td>0.203114</td>\n      <td>0.080711</td>\n      <td>0.116790</td>\n      <td>0.368458</td>\n      <td>0.0</td>\n      <td>0.0</td>\n      <td>...</td>\n      <td>0.0</td>\n      <td>1.0</td>\n      <td>0.0</td>\n      <td>0.0</td>\n      <td>0.0</td>\n      <td>0.0</td>\n      <td>0.0</td>\n      <td>0.0</td>\n      <td>1.0</td>\n      <td>0.0</td>\n    </tr>\n    <tr>\n      <th>18909</th>\n      <td>0.0</td>\n      <td>0.545455</td>\n      <td>0.166667</td>\n      <td>0.739130</td>\n      <td>0.210523</td>\n      <td>0.008147</td>\n      <td>0.033911</td>\n      <td>0.243188</td>\n      <td>0.0</td>\n      <td>0.0</td>\n      <td>...</td>\n      <td>0.0</td>\n      <td>1.0</td>\n      <td>0.0</td>\n      <td>0.0</td>\n      <td>0.0</td>\n      <td>0.0</td>\n      <td>0.0</td>\n      <td>0.0</td>\n      <td>1.0</td>\n      <td>0.0</td>\n    </tr>\n    <tr>\n      <th>107578</th>\n      <td>0.0</td>\n      <td>0.545455</td>\n      <td>0.500000</td>\n      <td>0.869565</td>\n      <td>0.293108</td>\n      <td>0.046319</td>\n      <td>0.653572</td>\n      <td>0.534835</td>\n      <td>0.0</td>\n      <td>0.0</td>\n      <td>...</td>\n      <td>0.0</td>\n      <td>1.0</td>\n      <td>0.0</td>\n      <td>0.0</td>\n      <td>0.0</td>\n      <td>0.0</td>\n      <td>1.0</td>\n      <td>0.0</td>\n      <td>0.0</td>\n      <td>0.0</td>\n    </tr>\n    <tr>\n      <th>130942</th>\n      <td>0.0</td>\n      <td>0.363636</td>\n      <td>0.666667</td>\n      <td>0.652174</td>\n      <td>0.570757</td>\n      <td>0.065643</td>\n      <td>0.411953</td>\n      <td>0.492319</td>\n      <td>0.0</td>\n      <td>0.0</td>\n      <td>...</td>\n      <td>1.0</td>\n      <td>1.0</td>\n      <td>0.0</td>\n      <td>0.0</td>\n      <td>1.0</td>\n      <td>0.0</td>\n      <td>0.0</td>\n      <td>0.0</td>\n      <td>0.0</td>\n      <td>0.0</td>\n    </tr>\n    <tr>\n      <th>78168</th>\n      <td>0.0</td>\n      <td>0.909091</td>\n      <td>1.000000</td>\n      <td>0.695652</td>\n      <td>0.328552</td>\n      <td>0.042308</td>\n      <td>0.316373</td>\n      <td>0.517746</td>\n      <td>0.0</td>\n      <td>0.0</td>\n      <td>...</td>\n      <td>0.0</td>\n      <td>1.0</td>\n      <td>0.0</td>\n      <td>0.0</td>\n      <td>1.0</td>\n      <td>0.0</td>\n      <td>0.0</td>\n      <td>0.0</td>\n      <td>0.0</td>\n      <td>0.0</td>\n    </tr>\n  </tbody>\n</table>\n<p>5 rows × 50 columns</p>\n</div>"
      ],
      "text/plain": [
       "        SHOOTING     MONTH  DAY_OF_WEEK      HOUR  \\\n101935       0.0  0.636364     0.166667  0.782609   \n18909        0.0  0.545455     0.166667  0.739130   \n107578       0.0  0.545455     0.500000  0.869565   \n130942       0.0  0.363636     0.666667  0.652174   \n78168        0.0  0.909091     1.000000  0.695652   \n\n        Population density (per square mile of land area)  BLDG_VAL  LAND_VAL  \\\n101935                                           0.203114  0.080711  0.116790   \n18909                                            0.210523  0.008147  0.033911   \n107578                                           0.293108  0.046319  0.653572   \n130942                                           0.570757  0.065643  0.411953   \n78168                                            0.328552  0.042308  0.316373   \n\n        light_density  MONTH_1  MONTH_2  ...  MONTH_12.0  SHOOTING_0  \\\n101935       0.368458      0.0      0.0  ...         0.0         1.0   \n18909        0.243188      0.0      0.0  ...         0.0         1.0   \n107578       0.534835      0.0      0.0  ...         0.0         1.0   \n130942       0.492319      0.0      0.0  ...         1.0         1.0   \n78168        0.517746      0.0      0.0  ...         0.0         1.0   \n\n        SHOOTING_1  DAY_OF_WEEK_0  DAY_OF_WEEK_1  DAY_OF_WEEK_2  \\\n101935         0.0            0.0            0.0            0.0   \n18909          0.0            0.0            0.0            0.0   \n107578         0.0            0.0            0.0            0.0   \n130942         0.0            0.0            1.0            0.0   \n78168          0.0            0.0            1.0            0.0   \n\n        DAY_OF_WEEK_3  DAY_OF_WEEK_4  DAY_OF_WEEK_5  DAY_OF_WEEK_6  \n101935            0.0            0.0            1.0            0.0  \n18909             0.0            0.0            1.0            0.0  \n107578            1.0            0.0            0.0            0.0  \n130942            0.0            0.0            0.0            0.0  \n78168             0.0            0.0            0.0            0.0  \n\n[5 rows x 50 columns]"
      ]
     },
     "metadata": {},
     "output_type": "execute_result"
    },
    {
     "data": {
      "text/html": [
       "<div>\n<style scoped>\n    .dataframe tbody tr th:only-of-type {\n        vertical-align: middle;\n    }\n\n    .dataframe tbody tr th {\n        vertical-align: top;\n    }\n\n    .dataframe thead th {\n        text-align: right;\n    }\n</style>\n<table border=\"1\" class=\"dataframe\">\n  <thead>\n    <tr style=\"text-align: right;\">\n      <th></th>\n      <th>SHOOTING</th>\n      <th>MONTH</th>\n      <th>DAY_OF_WEEK</th>\n      <th>HOUR</th>\n      <th>Population density (per square mile of land area)</th>\n      <th>BLDG_VAL</th>\n      <th>LAND_VAL</th>\n      <th>light_density</th>\n      <th>MONTH_1</th>\n      <th>MONTH_2</th>\n      <th>...</th>\n      <th>MONTH_12.0</th>\n      <th>SHOOTING_0</th>\n      <th>SHOOTING_1</th>\n      <th>DAY_OF_WEEK_0</th>\n      <th>DAY_OF_WEEK_1</th>\n      <th>DAY_OF_WEEK_2</th>\n      <th>DAY_OF_WEEK_3</th>\n      <th>DAY_OF_WEEK_4</th>\n      <th>DAY_OF_WEEK_5</th>\n      <th>DAY_OF_WEEK_6</th>\n    </tr>\n  </thead>\n  <tbody>\n    <tr>\n      <th>0</th>\n      <td>0.0</td>\n      <td>0.727273</td>\n      <td>0.333333</td>\n      <td>0.695652</td>\n      <td>0.210523</td>\n      <td>0.008147</td>\n      <td>0.033911</td>\n      <td>0.243188</td>\n      <td>0.0</td>\n      <td>0.0</td>\n      <td>...</td>\n      <td>0.0</td>\n      <td>1.0</td>\n      <td>0.0</td>\n      <td>1.0</td>\n      <td>0.0</td>\n      <td>0.0</td>\n      <td>0.0</td>\n      <td>0.0</td>\n      <td>0.0</td>\n      <td>0.0</td>\n    </tr>\n    <tr>\n      <th>1</th>\n      <td>0.0</td>\n      <td>0.636364</td>\n      <td>0.833333</td>\n      <td>0.652174</td>\n      <td>0.328552</td>\n      <td>0.042308</td>\n      <td>0.316373</td>\n      <td>0.517746</td>\n      <td>0.0</td>\n      <td>0.0</td>\n      <td>...</td>\n      <td>0.0</td>\n      <td>1.0</td>\n      <td>0.0</td>\n      <td>0.0</td>\n      <td>0.0</td>\n      <td>0.0</td>\n      <td>0.0</td>\n      <td>0.0</td>\n      <td>0.0</td>\n      <td>1.0</td>\n    </tr>\n    <tr>\n      <th>2</th>\n      <td>0.0</td>\n      <td>0.181818</td>\n      <td>0.666667</td>\n      <td>0.739130</td>\n      <td>0.334295</td>\n      <td>0.028569</td>\n      <td>0.111210</td>\n      <td>0.614133</td>\n      <td>0.0</td>\n      <td>0.0</td>\n      <td>...</td>\n      <td>0.0</td>\n      <td>1.0</td>\n      <td>0.0</td>\n      <td>0.0</td>\n      <td>0.0</td>\n      <td>0.0</td>\n      <td>0.0</td>\n      <td>0.0</td>\n      <td>0.0</td>\n      <td>1.0</td>\n    </tr>\n    <tr>\n      <th>3</th>\n      <td>0.0</td>\n      <td>0.000000</td>\n      <td>0.333333</td>\n      <td>0.869565</td>\n      <td>0.190164</td>\n      <td>0.007405</td>\n      <td>0.013439</td>\n      <td>0.360906</td>\n      <td>1.0</td>\n      <td>0.0</td>\n      <td>...</td>\n      <td>1.0</td>\n      <td>1.0</td>\n      <td>0.0</td>\n      <td>0.0</td>\n      <td>1.0</td>\n      <td>0.0</td>\n      <td>0.0</td>\n      <td>0.0</td>\n      <td>0.0</td>\n      <td>0.0</td>\n    </tr>\n    <tr>\n      <th>4</th>\n      <td>0.0</td>\n      <td>0.272727</td>\n      <td>0.333333</td>\n      <td>0.391304</td>\n      <td>0.051409</td>\n      <td>0.000000</td>\n      <td>0.009073</td>\n      <td>0.086291</td>\n      <td>0.0</td>\n      <td>0.0</td>\n      <td>...</td>\n      <td>0.0</td>\n      <td>1.0</td>\n      <td>0.0</td>\n      <td>0.0</td>\n      <td>0.0</td>\n      <td>0.0</td>\n      <td>0.0</td>\n      <td>1.0</td>\n      <td>0.0</td>\n      <td>0.0</td>\n    </tr>\n  </tbody>\n</table>\n<p>5 rows × 50 columns</p>\n</div>"
      ],
      "text/plain": [
       "   SHOOTING     MONTH  DAY_OF_WEEK      HOUR  \\\n0       0.0  0.727273     0.333333  0.695652   \n1       0.0  0.636364     0.833333  0.652174   \n2       0.0  0.181818     0.666667  0.739130   \n3       0.0  0.000000     0.333333  0.869565   \n4       0.0  0.272727     0.333333  0.391304   \n\n   Population density (per square mile of land area)  BLDG_VAL  LAND_VAL  \\\n0                                           0.210523  0.008147  0.033911   \n1                                           0.328552  0.042308  0.316373   \n2                                           0.334295  0.028569  0.111210   \n3                                           0.190164  0.007405  0.013439   \n4                                           0.051409  0.000000  0.009073   \n\n   light_density  MONTH_1  MONTH_2  ...  MONTH_12.0  SHOOTING_0  SHOOTING_1  \\\n0       0.243188      0.0      0.0  ...         0.0         1.0         0.0   \n1       0.517746      0.0      0.0  ...         0.0         1.0         0.0   \n2       0.614133      0.0      0.0  ...         0.0         1.0         0.0   \n3       0.360906      1.0      0.0  ...         1.0         1.0         0.0   \n4       0.086291      0.0      0.0  ...         0.0         1.0         0.0   \n\n   DAY_OF_WEEK_0  DAY_OF_WEEK_1  DAY_OF_WEEK_2  DAY_OF_WEEK_3  DAY_OF_WEEK_4  \\\n0            1.0            0.0            0.0            0.0            0.0   \n1            0.0            0.0            0.0            0.0            0.0   \n2            0.0            0.0            0.0            0.0            0.0   \n3            0.0            1.0            0.0            0.0            0.0   \n4            0.0            0.0            0.0            0.0            1.0   \n\n   DAY_OF_WEEK_5  DAY_OF_WEEK_6  \n0            0.0            0.0  \n1            0.0            1.0  \n2            0.0            1.0  \n3            0.0            0.0  \n4            0.0            0.0  \n\n[5 rows x 50 columns]"
      ]
     },
     "metadata": {},
     "output_type": "execute_result"
    }
   ],
   "source": [
    "#Let's scale the variables\n",
    "min_max_scaler = MinMaxScaler()\n",
    "numerical = [\"HOUR\", \"BLDG_VAL\", \"LAND_VAL\", \"light_density\", \"MONTH\", \"Population density (per square mile of land area)\" ]\n",
    "X_normalized = (X_train - X_train.min(axis=0)) / (X_train.max(axis=0) - X_train.min(axis=0))\n",
    "min_max_scaler.fit(X_train)\n",
    "X_normalized_tst = pd.DataFrame(min_max_scaler.transform(X_test))\n",
    "X_normalized_tst.columns = X_test.columns\n",
    "\n",
    "\n",
    "display(X_normalized.head())\n",
    "display(X_normalized_tst.head())\n"
   ]
  },
  {
   "cell_type": "code",
   "execution_count": 25,
   "metadata": {},
   "outputs": [],
   "source": [
    "# Let's first start with Logistic Model\n",
    "\n",
    "logreg = LogisticRegression(random_state = 0, solver='lbfgs', multi_class='multinomial', max_iter = 1000)\n",
    "logreg.fit(X_normalized, y_train)\n",
    "y_pred = logreg.predict(X_normalized_tst)"
   ]
  },
  {
   "cell_type": "code",
   "execution_count": 26,
   "metadata": {},
   "outputs": [
    {
     "data": {
      "text/plain": [
       "0.30972968053153727"
      ]
     },
     "execution_count": 26,
     "metadata": {},
     "output_type": "execute_result"
    }
   ],
   "source": [
    "mcm = multilabel_confusion_matrix(y_test, y_pred, sample_weight=None, labels=None, samplewise=False)\n",
    "logreg.score(X_normalized_tst , y_test)"
   ]
  },
  {
   "cell_type": "code",
   "execution_count": 27,
   "metadata": {},
   "outputs": [],
   "source": [
    "knn = KNeighborsClassifier(n_neighbors = 7).fit(X_normalized, y_train) \n",
    "  \n",
    "# accuracy on X_test \n",
    "accuracy = knn.score(X_normalized_tst, y_test) "
   ]
  },
  {
   "cell_type": "code",
   "execution_count": 28,
   "metadata": {},
   "outputs": [
    {
     "name": "stdout",
     "output_type": "stream",
     "text": [
      "[[   0  398  134 1134    0]\n [   1 1225  126 1060    0]\n [   0  589  216 1657    0]\n [   0  656  237 1962    0]\n [   0  458  133 1001    0]]\n"
     ]
    }
   ],
   "source": [
    "from sklearn.metrics import confusion_matrix \n",
    "cm = confusion_matrix(y_test, y_pred)\n",
    "\n",
    "print(cm)"
   ]
  },
  {
   "cell_type": "code",
   "execution_count": 29,
   "metadata": {},
   "outputs": [],
   "source": [
    "import pickle\n",
    "\n",
    "pickle.dump(logreg, open('logreg', 'wb'))\n",
    "pickle.dump(knn, open('knn', 'wb'))"
   ]
  },
  {
   "cell_type": "code",
   "execution_count": null,
   "metadata": {},
   "outputs": [],
   "source": []
  },
  {
   "cell_type": "code",
   "execution_count": null,
   "metadata": {},
   "outputs": [],
   "source": []
  }
 ],
 "metadata": {
  "kernelspec": {
   "display_name": "Python 3",
   "language": "python",
   "name": "python3"
  },
  "language_info": {
   "codemirror_mode": {
    "name": "ipython",
    "version": 3
   },
   "file_extension": ".py",
   "mimetype": "text/x-python",
   "name": "python",
   "nbconvert_exporter": "python",
   "pygments_lexer": "ipython3",
   "version": "3.7.0"
  }
 },
 "nbformat": 4,
 "nbformat_minor": 2
}
