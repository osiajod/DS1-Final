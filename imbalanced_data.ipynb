{
 "cells": [
  {
   "cell_type": "code",
   "execution_count": 12,
   "metadata": {},
   "outputs": [],
   "source": [
    "import pandas as pd\n",
    "import sklearn\n",
    "from matplotlib import pyplot as plt\n",
    "\n",
    "from sklearn.linear_model import LinearRegression\n",
    "from sklearn.linear_model import LogisticRegression\n",
    "from sklearn.linear_model import LogisticRegressionCV\n",
    "from sklearn.linear_model import LassoCV\n",
    "\n",
    "from sklearn.neighbors import KNeighborsClassifier\n",
    "from sklearn.model_selection import cross_val_score\n",
    "from sklearn.metrics import accuracy_score\n",
    "from sklearn.model_selection import KFold\n",
    "from sklearn.preprocessing import MinMaxScaler\n",
    "from sklearn.model_selection import train_test_split\n",
    "from sklearn.decomposition import PCA\n",
    "from sklearn import metrics\n",
    "from sklearn.preprocessing import OneHotEncoder\n",
    "from sklearn.preprocessing import LabelEncoder\n",
    "from sklearn.neighbors import KNeighborsClassifier \n",
    "from sklearn.metrics import multilabel_confusion_matrix\n",
    "\n",
    "%matplotlib inline\n",
    "\n",
    "import statsmodels.api as sm\n",
    "from statsmodels.api import OLS\n",
    "\n",
    "crime_property_light_population= pd.read_csv(\"crime_light_density.csv\")\n",
    "crime_property_light_population.head()\n",
    "\n",
    "predictors = ['OFFENSE_CODE_GROUP','SHOOTING', 'MONTH', 'DAY_OF_WEEK', 'HOUR', 'Population density (per square mile of land area)', 'BLDG_VAL', 'LAND_VAL','light_density']\n",
    "df = crime_property_light_population[predictors]\n",
    "df = df.dropna()\n",
    "\n",
    "crime_type = ['Auto Theft', 'Motor Vehicle Accident Response', 'Larceny', 'Robbery', 'Residential Burglary']\n",
    "\n",
    "df = df[df['OFFENSE_CODE_GROUP'].isin(crime_type)]\n",
    "#Let's label encode & one-hot encode the Categoricals (SHOOTING, DAY_OF_WEEK)\n",
    "\n",
    "enc = OneHotEncoder(handle_unknown='ignore')\n",
    "\n",
    "le = LabelEncoder() \n",
    "  \n",
    "df['SHOOTING']= le.fit_transform(df['SHOOTING'])\n",
    "df['DAY_OF_WEEK']= le.fit_transform(df['DAY_OF_WEEK']) \n",
    "df['OFFENSE_CODE_GROUP'] = le.fit_transform(df['OFFENSE_CODE_GROUP'])\n",
    "\n",
    "df_cat = enc.fit_transform(df[[\"MONTH\",\"SHOOTING\",\"DAY_OF_WEEK\"]]).toarray()\n",
    "\n",
    "df_cat = pd.DataFrame(df_cat, columns=enc.get_feature_names(['MONTH','SHOOTING', 'DAY_OF_WEEK']))\n",
    "df = pd.concat([df, df_cat], axis=1)\n",
    "df = df.dropna()\n",
    "\n",
    "\n",
    "X_train, X_test, y_train, y_test = train_test_split(df.loc[:, df.columns != 'OFFENSE_CODE_GROUP'], \n",
    "                                                         df.OFFENSE_CODE_GROUP, test_size=0.2, \n",
    "                                                         random_state = 109, \n",
    "                                                         stratify = df.OFFENSE_CODE_GROUP)\n",
    "\n",
    "#Let's scale the variables\n",
    "min_max_scaler = MinMaxScaler()\n",
    "numerical = [\"HOUR\", \"BLDG_VAL\", \"LAND_VAL\", \"light_density\", \"MONTH\", \"Population density (per square mile of land area)\" ]\n",
    "X_normalized = (X_train - X_train.min(axis=0)) / (X_train.max(axis=0) - X_train.min(axis=0))\n",
    "min_max_scaler.fit(X_train)\n",
    "X_normalized_tst = pd.DataFrame(min_max_scaler.transform(X_test))\n",
    "X_normalized_tst.columns = X_test.columns\n",
    "\n",
    "\n",
    "X_normalized.drop(['SHOOTING'], axis=1, inplace=True)\n",
    "X_normalized_tst.drop(['SHOOTING'], axis=1, inplace=True)\n",
    "X_normalized.drop(['MONTH'], axis=1, inplace=True)\n",
    "X_normalized_tst.drop(['MONTH'], axis=1, inplace=True)\n",
    "X_normalized.drop(['DAY_OF_WEEK'], axis=1, inplace=True)\n",
    "X_normalized_tst.drop(['DAY_OF_WEEK'], axis=1, inplace=True)\n",
    "X_normalized.drop(['MONTH_1', 'SHOOTING_0', 'DAY_OF_WEEK_0'], axis=1, inplace=True)\n",
    "X_normalized_tst.drop(['MONTH_1', 'SHOOTING_0', 'DAY_OF_WEEK_0'], axis=1, inplace=True)"
   ]
  },
  {
   "cell_type": "code",
   "execution_count": 13,
   "metadata": {},
   "outputs": [
    {
     "data": {
      "text/plain": [
       "0.5481912471540602"
      ]
     },
     "execution_count": 13,
     "metadata": {},
     "output_type": "execute_result"
    }
   ],
   "source": [
    "# Let's first start with Logistic Model\n",
    "\n",
    "logreg = LogisticRegression(random_state = 0, solver='lbfgs', multi_class='multinomial', max_iter = 1000)\n",
    "logreg.fit(X_normalized, y_train)\n",
    "y_pred = logreg.predict(X_normalized_tst)\n",
    "\n",
    "mcm = multilabel_confusion_matrix(y_test, y_pred, sample_weight=None, labels=None, samplewise=False)\n",
    "logreg.score(X_normalized_tst , y_test)\n"
   ]
  },
  {
   "cell_type": "code",
   "execution_count": 14,
   "metadata": {},
   "outputs": [
    {
     "data": {
      "text/plain": [
       "0.5527580971659919"
      ]
     },
     "execution_count": 14,
     "metadata": {},
     "output_type": "execute_result"
    }
   ],
   "source": [
    "logreg.score(X_normalized, y_train)"
   ]
  },
  {
   "cell_type": "code",
   "execution_count": 15,
   "metadata": {},
   "outputs": [
    {
     "name": "stdout",
     "output_type": "stream",
     "text": [
      "0.4960789273969137\n"
     ]
    }
   ],
   "source": [
    "knn = KNeighborsClassifier(n_neighbors = 7).fit(X_normalized, y_train) \n",
    "  \n",
    "# accuracy on X_test \n",
    "accuracy = knn.score(X_normalized_tst, y_test) \n",
    "print(accuracy)"
   ]
  },
  {
   "cell_type": "code",
   "execution_count": null,
   "metadata": {},
   "outputs": [],
   "source": []
  }
 ],
 "metadata": {
  "kernelspec": {
   "display_name": "Python 3",
   "language": "python",
   "name": "python3"
  },
  "language_info": {
   "codemirror_mode": {
    "name": "ipython",
    "version": 3
   },
   "file_extension": ".py",
   "mimetype": "text/x-python",
   "name": "python",
   "nbconvert_exporter": "python",
   "pygments_lexer": "ipython3",
   "version": "3.7.4"
  }
 },
 "nbformat": 4,
 "nbformat_minor": 2
}
