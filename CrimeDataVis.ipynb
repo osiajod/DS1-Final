{
 "cells": [
  {
   "cell_type": "code",
   "execution_count": 1,
   "metadata": {},
   "outputs": [],
   "source": [
    "import pandas as pd\n",
    "import numpy as np\n",
    "import matplotlib.pyplot as plt\n",
    "import seaborn as sns\n",
    "from matplotlib.pyplot import figure, show\n",
    "from matplotlib.ticker import MaxNLocator\n",
    "import os \n",
    "import time"
   ]
  },
  {
   "cell_type": "code",
   "execution_count": 2,
   "metadata": {},
   "outputs": [
    {
     "name": "stderr",
     "output_type": "stream",
     "text": [
      "/Users/Ann/anaconda3/lib/python3.7/site-packages/IPython/core/interactiveshell.py:2785: DtypeWarning: Columns (6) have mixed types. Specify dtype option on import or set low_memory=False.\n",
      "  interactivity=interactivity, compiler=compiler, result=result)\n"
     ]
    }
   ],
   "source": [
    "data = pd.read_csv('./data/crimedata.csv')\n"
   ]
  },
  {
   "cell_type": "code",
   "execution_count": 3,
   "metadata": {},
   "outputs": [
    {
     "name": "stdout",
     "output_type": "stream",
     "text": [
      "OFFENSE_CODE_GROUP ['Auto Theft' 'Investigate Property' 'Investigate Person' 'Vandalism'\n",
      " 'Verbal Disputes' 'Motor Vehicle Accident Response' 'Aggravated Assault'\n",
      " 'Residential Burglary' 'Larceny' 'Firearm Violations'\n",
      " 'Medical Assistance' 'Simple Assault' 'Missing Person Reported' 'Robbery'\n",
      " 'Property Lost' 'Violations' 'Firearm Discovery' 'Warrant Arrests'\n",
      " 'Other' 'Ballistics' 'Towed' 'Drug Violation' 'Fire Related Reports'\n",
      " 'Fraud' 'Disorderly Conduct' 'Larceny From Motor Vehicle'\n",
      " 'Police Service Incidents' 'Missing Person Located' 'Harassment'\n",
      " 'Property Found' 'Liquor Violation' 'Property Related Damage'\n",
      " 'Confidence Games' 'Commercial Burglary' 'Recovered Stolen Property'\n",
      " 'Other Burglary' 'Assembly or Gathering Violations' 'Counterfeiting'\n",
      " 'Prisoner Related Incidents' 'License Plate Related Incidents'\n",
      " 'Restraining Order Violations' 'Search Warrants' 'License Violation'\n",
      " 'Landlord/Tenant Disputes' 'Auto Theft Recovery'\n",
      " 'Operating Under the Influence' 'Evading Fare' 'Embezzlement'\n",
      " 'Criminal Harassment' 'Harbor Related Incidents' 'Service'\n",
      " 'Offenses Against Child / Family' 'Prostitution' 'Biological Threat'\n",
      " 'Homicide' 'Explosives' 'Arson' 'Aircraft'\n",
      " 'HUMAN TRAFFICKING - INVOLUNTARY SERVITUDE' 'HOME INVASION'\n",
      " 'Phone Call Complaints' 'Bomb Hoax' 'Manslaughter' 'Gambling'\n",
      " 'INVESTIGATE PERSON' 'HUMAN TRAFFICKING' 'Burglary - No Property Taken']\n"
     ]
    }
   ],
   "source": [
    "data=data.loc[(data['Lat']>35)&(data['Long']< -60)] #remove NA from 'Lat' and 'Long'\n",
    "data=data.dropna(subset=[\"STREET\"])\n",
    "columns=['OFFENSE_CODE_GROUP']\n",
    "for j in columns:\n",
    "    print(j,data[j].unique())"
   ]
  },
  {
   "cell_type": "code",
   "execution_count": 4,
   "metadata": {},
   "outputs": [
    {
     "name": "stdout",
     "output_type": "stream",
     "text": [
      "INCIDENT_NUMBER             0\n",
      "OFFENSE_CODE                0\n",
      "OFFENSE_CODE_GROUP          0\n",
      "OFFENSE_DESCRIPTION         0\n",
      "DISTRICT                   29\n",
      "REPORTING_AREA              0\n",
      "SHOOTING               394646\n",
      "OCCURRED_ON_DATE            0\n",
      "YEAR                        0\n",
      "MONTH                       0\n",
      "DAY_OF_WEEK                 0\n",
      "HOUR                        0\n",
      "UCR_PART                  109\n",
      "STREET                      0\n",
      "Lat                         0\n",
      "Long                        0\n",
      "Location                    0\n",
      "dtype: int64\n"
     ]
    }
   ],
   "source": [
    "print(data.isnull().sum())"
   ]
  },
  {
   "cell_type": "code",
   "execution_count": 5,
   "metadata": {},
   "outputs": [
    {
     "data": {
      "text/html": [
       "<div>\n",
       "<style scoped>\n",
       "    .dataframe tbody tr th:only-of-type {\n",
       "        vertical-align: middle;\n",
       "    }\n",
       "\n",
       "    .dataframe tbody tr th {\n",
       "        vertical-align: top;\n",
       "    }\n",
       "\n",
       "    .dataframe thead th {\n",
       "        text-align: right;\n",
       "    }\n",
       "</style>\n",
       "<table border=\"1\" class=\"dataframe\">\n",
       "  <thead>\n",
       "    <tr style=\"text-align: right;\">\n",
       "      <th></th>\n",
       "      <th>INCIDENT_NUMBER</th>\n",
       "      <th>OFFENSE_CODE</th>\n",
       "      <th>OFFENSE_CODE_GROUP</th>\n",
       "      <th>OFFENSE_DESCRIPTION</th>\n",
       "      <th>DISTRICT</th>\n",
       "      <th>REPORTING_AREA</th>\n",
       "      <th>SHOOTING</th>\n",
       "      <th>OCCURRED_ON_DATE</th>\n",
       "      <th>YEAR</th>\n",
       "      <th>MONTH</th>\n",
       "      <th>DAY_OF_WEEK</th>\n",
       "      <th>HOUR</th>\n",
       "      <th>UCR_PART</th>\n",
       "      <th>STREET</th>\n",
       "      <th>Lat</th>\n",
       "      <th>Long</th>\n",
       "      <th>Location</th>\n",
       "    </tr>\n",
       "  </thead>\n",
       "  <tbody>\n",
       "    <tr>\n",
       "      <th>0</th>\n",
       "      <td>I192082859</td>\n",
       "      <td>724</td>\n",
       "      <td>Auto Theft</td>\n",
       "      <td>AUTO THEFT</td>\n",
       "      <td>E18</td>\n",
       "      <td>519</td>\n",
       "      <td>NaN</td>\n",
       "      <td>2019-10-13 09:28:24</td>\n",
       "      <td>2019</td>\n",
       "      <td>10</td>\n",
       "      <td>Sunday</td>\n",
       "      <td>9</td>\n",
       "      <td>Part One</td>\n",
       "      <td>LINCOLN ST</td>\n",
       "      <td>42.259518</td>\n",
       "      <td>-71.121563</td>\n",
       "      <td>(42.25951765, -71.12156299)</td>\n",
       "    </tr>\n",
       "    <tr>\n",
       "      <th>1</th>\n",
       "      <td>I192082751</td>\n",
       "      <td>724</td>\n",
       "      <td>Auto Theft</td>\n",
       "      <td>AUTO THEFT</td>\n",
       "      <td>E18</td>\n",
       "      <td>493</td>\n",
       "      <td>NaN</td>\n",
       "      <td>2019-10-12 20:11:26</td>\n",
       "      <td>2019</td>\n",
       "      <td>10</td>\n",
       "      <td>Saturday</td>\n",
       "      <td>20</td>\n",
       "      <td>Part One</td>\n",
       "      <td>METROPOLITAN AVE</td>\n",
       "      <td>42.262092</td>\n",
       "      <td>-71.116710</td>\n",
       "      <td>(42.26209214, -71.11670964)</td>\n",
       "    </tr>\n",
       "    <tr>\n",
       "      <th>2</th>\n",
       "      <td>I192082680</td>\n",
       "      <td>727</td>\n",
       "      <td>Auto Theft</td>\n",
       "      <td>AUTO THEFT - LEASED/RENTED VEHICLE</td>\n",
       "      <td>D14</td>\n",
       "      <td>794</td>\n",
       "      <td>NaN</td>\n",
       "      <td>2019-10-12 15:12:43</td>\n",
       "      <td>2019</td>\n",
       "      <td>10</td>\n",
       "      <td>Saturday</td>\n",
       "      <td>15</td>\n",
       "      <td>Part One</td>\n",
       "      <td>ALLSTON ST</td>\n",
       "      <td>42.352375</td>\n",
       "      <td>-71.135096</td>\n",
       "      <td>(42.35237455, -71.13509584)</td>\n",
       "    </tr>\n",
       "    <tr>\n",
       "      <th>3</th>\n",
       "      <td>I192082577</td>\n",
       "      <td>724</td>\n",
       "      <td>Auto Theft</td>\n",
       "      <td>AUTO THEFT</td>\n",
       "      <td>D4</td>\n",
       "      <td>130</td>\n",
       "      <td>NaN</td>\n",
       "      <td>2019-10-12 04:41:52</td>\n",
       "      <td>2019</td>\n",
       "      <td>10</td>\n",
       "      <td>Saturday</td>\n",
       "      <td>4</td>\n",
       "      <td>Part One</td>\n",
       "      <td>SAINT JAMES AVE</td>\n",
       "      <td>42.349476</td>\n",
       "      <td>-71.076402</td>\n",
       "      <td>(42.34947586, -71.07640150)</td>\n",
       "    </tr>\n",
       "    <tr>\n",
       "      <th>4</th>\n",
       "      <td>I192079582</td>\n",
       "      <td>727</td>\n",
       "      <td>Auto Theft</td>\n",
       "      <td>AUTO THEFT - LEASED/RENTED VEHICLE</td>\n",
       "      <td>A15</td>\n",
       "      <td>47</td>\n",
       "      <td>NaN</td>\n",
       "      <td>2019-10-02 08:08:49</td>\n",
       "      <td>2019</td>\n",
       "      <td>10</td>\n",
       "      <td>Wednesday</td>\n",
       "      <td>8</td>\n",
       "      <td>Part One</td>\n",
       "      <td>N MEAD ST</td>\n",
       "      <td>42.381846</td>\n",
       "      <td>-71.066551</td>\n",
       "      <td>(42.38184582, -71.06655134)</td>\n",
       "    </tr>\n",
       "  </tbody>\n",
       "</table>\n",
       "</div>"
      ],
      "text/plain": [
       "  INCIDENT_NUMBER  OFFENSE_CODE OFFENSE_CODE_GROUP  \\\n",
       "0      I192082859           724         Auto Theft   \n",
       "1      I192082751           724         Auto Theft   \n",
       "2      I192082680           727         Auto Theft   \n",
       "3      I192082577           724         Auto Theft   \n",
       "4      I192079582           727         Auto Theft   \n",
       "\n",
       "                  OFFENSE_DESCRIPTION DISTRICT REPORTING_AREA SHOOTING  \\\n",
       "0                          AUTO THEFT      E18            519      NaN   \n",
       "1                          AUTO THEFT      E18            493      NaN   \n",
       "2  AUTO THEFT - LEASED/RENTED VEHICLE      D14            794      NaN   \n",
       "3                          AUTO THEFT       D4            130      NaN   \n",
       "4  AUTO THEFT - LEASED/RENTED VEHICLE      A15             47      NaN   \n",
       "\n",
       "      OCCURRED_ON_DATE  YEAR  MONTH DAY_OF_WEEK  HOUR  UCR_PART  \\\n",
       "0  2019-10-13 09:28:24  2019     10      Sunday     9  Part One   \n",
       "1  2019-10-12 20:11:26  2019     10    Saturday    20  Part One   \n",
       "2  2019-10-12 15:12:43  2019     10    Saturday    15  Part One   \n",
       "3  2019-10-12 04:41:52  2019     10    Saturday     4  Part One   \n",
       "4  2019-10-02 08:08:49  2019     10   Wednesday     8  Part One   \n",
       "\n",
       "             STREET        Lat       Long                     Location  \n",
       "0        LINCOLN ST  42.259518 -71.121563  (42.25951765, -71.12156299)  \n",
       "1  METROPOLITAN AVE  42.262092 -71.116710  (42.26209214, -71.11670964)  \n",
       "2        ALLSTON ST  42.352375 -71.135096  (42.35237455, -71.13509584)  \n",
       "3   SAINT JAMES AVE  42.349476 -71.076402  (42.34947586, -71.07640150)  \n",
       "4         N MEAD ST  42.381846 -71.066551  (42.38184582, -71.06655134)  "
      ]
     },
     "execution_count": 5,
     "metadata": {},
     "output_type": "execute_result"
    }
   ],
   "source": [
    "data.head()"
   ]
  },
  {
   "cell_type": "markdown",
   "metadata": {},
   "source": [
    "# EDA"
   ]
  },
  {
   "cell_type": "code",
   "execution_count": null,
   "metadata": {},
   "outputs": [],
   "source": []
  },
  {
   "cell_type": "code",
   "execution_count": null,
   "metadata": {},
   "outputs": [],
   "source": []
  }
 ],
 "metadata": {
  "kernelspec": {
   "display_name": "Python 3",
   "language": "python",
   "name": "python3"
  },
  "language_info": {
   "codemirror_mode": {
    "name": "ipython",
    "version": 3
   },
   "file_extension": ".py",
   "mimetype": "text/x-python",
   "name": "python",
   "nbconvert_exporter": "python",
   "pygments_lexer": "ipython3",
   "version": "3.7.0"
  }
 },
 "nbformat": 4,
 "nbformat_minor": 2
}
